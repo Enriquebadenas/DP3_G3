{
  "nbformat": 4,
  "nbformat_minor": 0,
  "metadata": {
    "colab": {
      "name": "Data_Project_3 rev23_30h_lunes2.ipynb",
      "provenance": [],
      "collapsed_sections": [],
      "include_colab_link": true
    },
    "kernelspec": {
      "name": "python3",
      "display_name": "Python 3"
    },
    "language_info": {
      "name": "python"
    }
  },
  "cells": [
    {
      "cell_type": "markdown",
      "metadata": {
        "id": "view-in-github",
        "colab_type": "text"
      },
      "source": [
        "<a href=\"https://colab.research.google.com/github/Enriquebadenas/DP3_G3/blob/main/Data_Project_3_rev23_30h_lunes2.ipynb\" target=\"_parent\"><img src=\"https://colab.research.google.com/assets/colab-badge.svg\" alt=\"Open In Colab\"/></a>"
      ]
    },
    {
      "cell_type": "markdown",
      "source": [
        "# Data Project 3 | Grupo 3\n",
        "\n",
        "## Predicción del riesgo crediticio"
      ],
      "metadata": {
        "id": "zKvQiGyGgkAm"
      }
    },
    {
      "cell_type": "code",
      "source": [
        "#Librerias\n",
        "import os\n",
        "import numpy as np\n",
        "import pandas as pd\n",
        "from pandas.api.types import CategoricalDtype\n",
        "import matplotlib.pyplot as plt\n",
        "import seaborn as sns "
      ],
      "metadata": {
        "id": "hNJ5MlCofH05"
      },
      "execution_count": null,
      "outputs": []
    },
    {
      "cell_type": "code",
      "execution_count": null,
      "metadata": {
        "id": "bH9R4TH2c_x6"
      },
      "outputs": [],
      "source": [
        "#Cambiar ruta a github al acabar el proyecto: url = 'copied_raw_GH_link'\n",
        "from google.colab import drive\n",
        "drive.mount('/content/drive')"
      ]
    },
    {
      "cell_type": "code",
      "source": [
        "# ruta Diego path_dem = \"/content/drive/MyDrive/MDA/DataProject3/demograficos_diego.csv\"\n",
        "# ruta Diego path_prev = \"/content/drive/MyDrive/MDA/DataProject3/previous_loan_diego.csv\"\n",
        "path_dem = \"/content/demograficos_diego.csv\"\n",
        "path_prev = \"/content/previous_loan_diego.csv\"\n"
      ],
      "metadata": {
        "id": "OyY_9wpPgECp"
      },
      "execution_count": null,
      "outputs": []
    },
    {
      "cell_type": "code",
      "source": [
        "dem = pd.read_csv(path_dem)\n",
        "prev = pd.read_csv(path_prev)"
      ],
      "metadata": {
        "id": "F2weLcGufi17"
      },
      "execution_count": null,
      "outputs": []
    },
    {
      "cell_type": "markdown",
      "source": [
        "## 00_Descripción de los Datasets"
      ],
      "metadata": {
        "id": "vg6e9E65iRb4"
      }
    },
    {
      "cell_type": "markdown",
      "source": [
        "### dataset: \"train_previous_loan\""
      ],
      "metadata": {
        "id": "ZmnrP0nkioQz"
      }
    },
    {
      "cell_type": "code",
      "source": [
        "#CUSTOMERID - SYSTEMLOANID - Identificadores de clientes y préstamos\n",
        "prev.describe()"
      ],
      "metadata": {
        "colab": {
          "base_uri": "https://localhost:8080/",
          "height": 300
        },
        "id": "cjiQPexypzU_",
        "outputId": "931a36e1-b9e0-4980-d75c-71070b5dd7c7"
      },
      "execution_count": null,
      "outputs": [
        {
          "output_type": "execute_result",
          "data": {
            "text/plain": [
              "         Unnamed: 0  systemloanid    loannumber    loanamount      totaldue  \\\n",
              "count  18183.000000  1.818300e+04  18183.000000  18183.000000  18183.000000   \n",
              "mean    9091.000000  3.018395e+08      4.189353  16501.237420  19573.202931   \n",
              "std     5249.124308  9.367767e+04      3.249490   9320.547516  10454.245277   \n",
              "min        0.000000  3.016001e+08      1.000000   3000.000000   3450.000000   \n",
              "25%     4545.500000  3.017766e+08      2.000000  10000.000000  11500.000000   \n",
              "50%     9091.000000  3.018550e+08      3.000000  10000.000000  13000.000000   \n",
              "75%    13636.500000  3.019197e+08      6.000000  20000.000000  24500.000000   \n",
              "max    18182.000000  3.020003e+08     26.000000  60000.000000  68100.000000   \n",
              "\n",
              "           termdays  diff_approv_closed_date     num_prest  \n",
              "count  18183.000000              18183.00000  18183.000000  \n",
              "mean      26.692790                 23.38041      7.372876  \n",
              "std       10.946556                 13.25201      4.282959  \n",
              "min       15.000000                  0.00000      1.000000  \n",
              "25%       15.000000                 14.00000      4.000000  \n",
              "50%       30.000000                 25.00000      7.000000  \n",
              "75%       30.000000                 29.00000     10.000000  \n",
              "max       90.000000                380.00000     26.000000  "
            ],
            "text/html": [
              "\n",
              "  <div id=\"df-736985e3-e04b-45a4-aca1-19034161de08\">\n",
              "    <div class=\"colab-df-container\">\n",
              "      <div>\n",
              "<style scoped>\n",
              "    .dataframe tbody tr th:only-of-type {\n",
              "        vertical-align: middle;\n",
              "    }\n",
              "\n",
              "    .dataframe tbody tr th {\n",
              "        vertical-align: top;\n",
              "    }\n",
              "\n",
              "    .dataframe thead th {\n",
              "        text-align: right;\n",
              "    }\n",
              "</style>\n",
              "<table border=\"1\" class=\"dataframe\">\n",
              "  <thead>\n",
              "    <tr style=\"text-align: right;\">\n",
              "      <th></th>\n",
              "      <th>Unnamed: 0</th>\n",
              "      <th>systemloanid</th>\n",
              "      <th>loannumber</th>\n",
              "      <th>loanamount</th>\n",
              "      <th>totaldue</th>\n",
              "      <th>termdays</th>\n",
              "      <th>diff_approv_closed_date</th>\n",
              "      <th>num_prest</th>\n",
              "    </tr>\n",
              "  </thead>\n",
              "  <tbody>\n",
              "    <tr>\n",
              "      <th>count</th>\n",
              "      <td>18183.000000</td>\n",
              "      <td>1.818300e+04</td>\n",
              "      <td>18183.000000</td>\n",
              "      <td>18183.000000</td>\n",
              "      <td>18183.000000</td>\n",
              "      <td>18183.000000</td>\n",
              "      <td>18183.00000</td>\n",
              "      <td>18183.000000</td>\n",
              "    </tr>\n",
              "    <tr>\n",
              "      <th>mean</th>\n",
              "      <td>9091.000000</td>\n",
              "      <td>3.018395e+08</td>\n",
              "      <td>4.189353</td>\n",
              "      <td>16501.237420</td>\n",
              "      <td>19573.202931</td>\n",
              "      <td>26.692790</td>\n",
              "      <td>23.38041</td>\n",
              "      <td>7.372876</td>\n",
              "    </tr>\n",
              "    <tr>\n",
              "      <th>std</th>\n",
              "      <td>5249.124308</td>\n",
              "      <td>9.367767e+04</td>\n",
              "      <td>3.249490</td>\n",
              "      <td>9320.547516</td>\n",
              "      <td>10454.245277</td>\n",
              "      <td>10.946556</td>\n",
              "      <td>13.25201</td>\n",
              "      <td>4.282959</td>\n",
              "    </tr>\n",
              "    <tr>\n",
              "      <th>min</th>\n",
              "      <td>0.000000</td>\n",
              "      <td>3.016001e+08</td>\n",
              "      <td>1.000000</td>\n",
              "      <td>3000.000000</td>\n",
              "      <td>3450.000000</td>\n",
              "      <td>15.000000</td>\n",
              "      <td>0.00000</td>\n",
              "      <td>1.000000</td>\n",
              "    </tr>\n",
              "    <tr>\n",
              "      <th>25%</th>\n",
              "      <td>4545.500000</td>\n",
              "      <td>3.017766e+08</td>\n",
              "      <td>2.000000</td>\n",
              "      <td>10000.000000</td>\n",
              "      <td>11500.000000</td>\n",
              "      <td>15.000000</td>\n",
              "      <td>14.00000</td>\n",
              "      <td>4.000000</td>\n",
              "    </tr>\n",
              "    <tr>\n",
              "      <th>50%</th>\n",
              "      <td>9091.000000</td>\n",
              "      <td>3.018550e+08</td>\n",
              "      <td>3.000000</td>\n",
              "      <td>10000.000000</td>\n",
              "      <td>13000.000000</td>\n",
              "      <td>30.000000</td>\n",
              "      <td>25.00000</td>\n",
              "      <td>7.000000</td>\n",
              "    </tr>\n",
              "    <tr>\n",
              "      <th>75%</th>\n",
              "      <td>13636.500000</td>\n",
              "      <td>3.019197e+08</td>\n",
              "      <td>6.000000</td>\n",
              "      <td>20000.000000</td>\n",
              "      <td>24500.000000</td>\n",
              "      <td>30.000000</td>\n",
              "      <td>29.00000</td>\n",
              "      <td>10.000000</td>\n",
              "    </tr>\n",
              "    <tr>\n",
              "      <th>max</th>\n",
              "      <td>18182.000000</td>\n",
              "      <td>3.020003e+08</td>\n",
              "      <td>26.000000</td>\n",
              "      <td>60000.000000</td>\n",
              "      <td>68100.000000</td>\n",
              "      <td>90.000000</td>\n",
              "      <td>380.00000</td>\n",
              "      <td>26.000000</td>\n",
              "    </tr>\n",
              "  </tbody>\n",
              "</table>\n",
              "</div>\n",
              "      <button class=\"colab-df-convert\" onclick=\"convertToInteractive('df-736985e3-e04b-45a4-aca1-19034161de08')\"\n",
              "              title=\"Convert this dataframe to an interactive table.\"\n",
              "              style=\"display:none;\">\n",
              "        \n",
              "  <svg xmlns=\"http://www.w3.org/2000/svg\" height=\"24px\"viewBox=\"0 0 24 24\"\n",
              "       width=\"24px\">\n",
              "    <path d=\"M0 0h24v24H0V0z\" fill=\"none\"/>\n",
              "    <path d=\"M18.56 5.44l.94 2.06.94-2.06 2.06-.94-2.06-.94-.94-2.06-.94 2.06-2.06.94zm-11 1L8.5 8.5l.94-2.06 2.06-.94-2.06-.94L8.5 2.5l-.94 2.06-2.06.94zm10 10l.94 2.06.94-2.06 2.06-.94-2.06-.94-.94-2.06-.94 2.06-2.06.94z\"/><path d=\"M17.41 7.96l-1.37-1.37c-.4-.4-.92-.59-1.43-.59-.52 0-1.04.2-1.43.59L10.3 9.45l-7.72 7.72c-.78.78-.78 2.05 0 2.83L4 21.41c.39.39.9.59 1.41.59.51 0 1.02-.2 1.41-.59l7.78-7.78 2.81-2.81c.8-.78.8-2.07 0-2.86zM5.41 20L4 18.59l7.72-7.72 1.47 1.35L5.41 20z\"/>\n",
              "  </svg>\n",
              "      </button>\n",
              "      \n",
              "  <style>\n",
              "    .colab-df-container {\n",
              "      display:flex;\n",
              "      flex-wrap:wrap;\n",
              "      gap: 12px;\n",
              "    }\n",
              "\n",
              "    .colab-df-convert {\n",
              "      background-color: #E8F0FE;\n",
              "      border: none;\n",
              "      border-radius: 50%;\n",
              "      cursor: pointer;\n",
              "      display: none;\n",
              "      fill: #1967D2;\n",
              "      height: 32px;\n",
              "      padding: 0 0 0 0;\n",
              "      width: 32px;\n",
              "    }\n",
              "\n",
              "    .colab-df-convert:hover {\n",
              "      background-color: #E2EBFA;\n",
              "      box-shadow: 0px 1px 2px rgba(60, 64, 67, 0.3), 0px 1px 3px 1px rgba(60, 64, 67, 0.15);\n",
              "      fill: #174EA6;\n",
              "    }\n",
              "\n",
              "    [theme=dark] .colab-df-convert {\n",
              "      background-color: #3B4455;\n",
              "      fill: #D2E3FC;\n",
              "    }\n",
              "\n",
              "    [theme=dark] .colab-df-convert:hover {\n",
              "      background-color: #434B5C;\n",
              "      box-shadow: 0px 1px 3px 1px rgba(0, 0, 0, 0.15);\n",
              "      filter: drop-shadow(0px 1px 2px rgba(0, 0, 0, 0.3));\n",
              "      fill: #FFFFFF;\n",
              "    }\n",
              "  </style>\n",
              "\n",
              "      <script>\n",
              "        const buttonEl =\n",
              "          document.querySelector('#df-736985e3-e04b-45a4-aca1-19034161de08 button.colab-df-convert');\n",
              "        buttonEl.style.display =\n",
              "          google.colab.kernel.accessAllowed ? 'block' : 'none';\n",
              "\n",
              "        async function convertToInteractive(key) {\n",
              "          const element = document.querySelector('#df-736985e3-e04b-45a4-aca1-19034161de08');\n",
              "          const dataTable =\n",
              "            await google.colab.kernel.invokeFunction('convertToInteractive',\n",
              "                                                     [key], {});\n",
              "          if (!dataTable) return;\n",
              "\n",
              "          const docLinkHtml = 'Like what you see? Visit the ' +\n",
              "            '<a target=\"_blank\" href=https://colab.research.google.com/notebooks/data_table.ipynb>data table notebook</a>'\n",
              "            + ' to learn more about interactive tables.';\n",
              "          element.innerHTML = '';\n",
              "          dataTable['output_type'] = 'display_data';\n",
              "          await google.colab.output.renderOutput(dataTable, element);\n",
              "          const docLink = document.createElement('div');\n",
              "          docLink.innerHTML = docLinkHtml;\n",
              "          element.appendChild(docLink);\n",
              "        }\n",
              "      </script>\n",
              "    </div>\n",
              "  </div>\n",
              "  "
            ]
          },
          "metadata": {},
          "execution_count": 25
        }
      ]
    },
    {
      "cell_type": "code",
      "source": [
        "#CUSTOMERID - SYSTEMLOANID - Identificadores de clientes y préstamos\n",
        "prev.dtypes"
      ],
      "metadata": {
        "colab": {
          "base_uri": "https://localhost:8080/"
        },
        "id": "IO-qiW74iuu9",
        "outputId": "5822e784-3986-4cd5-da37-b38ecf85911d"
      },
      "execution_count": null,
      "outputs": [
        {
          "output_type": "execute_result",
          "data": {
            "text/plain": [
              "Unnamed: 0                   int64\n",
              "customerid                  object\n",
              "systemloanid                 int64\n",
              "loannumber                   int64\n",
              "approveddate                object\n",
              "creationdate                object\n",
              "loanamount                 float64\n",
              "totaldue                   float64\n",
              "termdays                     int64\n",
              "closeddate                  object\n",
              "referredby                  object\n",
              "firstduedate                object\n",
              "firstrepaiddate             object\n",
              "diff_approv_closed_date      int64\n",
              "Good_bad_flag               object\n",
              "num_prest                    int64\n",
              "dtype: object"
            ]
          },
          "metadata": {},
          "execution_count": 6
        }
      ]
    },
    {
      "cell_type": "markdown",
      "source": [
        "Variables cuantitativas"
      ],
      "metadata": {
        "id": "GPEF0h3xG2w0"
      }
    },
    {
      "cell_type": "code",
      "source": [
        "# Only the variable \"referredby\" has missing values = 17.157 sobre 18.183 del total de datos\n",
        "prev.isna().sum()"
      ],
      "metadata": {
        "colab": {
          "base_uri": "https://localhost:8080/"
        },
        "id": "AfHGiwF_Gscl",
        "outputId": "6cadb3e4-1c8f-4590-d8a8-375468403eaa"
      },
      "execution_count": null,
      "outputs": [
        {
          "output_type": "execute_result",
          "data": {
            "text/plain": [
              "Unnamed: 0                     0\n",
              "customerid                     0\n",
              "systemloanid                   0\n",
              "loannumber                     0\n",
              "approveddate                   0\n",
              "creationdate                   0\n",
              "loanamount                     0\n",
              "totaldue                       0\n",
              "termdays                       0\n",
              "closeddate                     0\n",
              "referredby                 17157\n",
              "firstduedate                   0\n",
              "firstrepaiddate                0\n",
              "diff_approv_closed_date        0\n",
              "Good_bad_flag                  0\n",
              "num_prest                      0\n",
              "dtype: int64"
            ]
          },
          "metadata": {},
          "execution_count": 7
        }
      ]
    },
    {
      "cell_type": "code",
      "source": [
        "# LOANAMOUNT - Cantidad pedida en el préstamo\n",
        "prev.loanamount.describe()\n",
        "sns.boxplot(prev[\"loanamount\"])"
      ],
      "metadata": {
        "colab": {
          "base_uri": "https://localhost:8080/",
          "height": 351
        },
        "id": "0wvosTVSGur3",
        "outputId": "9c03387e-08ca-4627-f488-ea559dc8746c"
      },
      "execution_count": null,
      "outputs": [
        {
          "output_type": "stream",
          "name": "stderr",
          "text": [
            "/usr/local/lib/python3.7/dist-packages/seaborn/_decorators.py:43: FutureWarning: Pass the following variable as a keyword arg: x. From version 0.12, the only valid positional argument will be `data`, and passing other arguments without an explicit keyword will result in an error or misinterpretation.\n",
            "  FutureWarning\n"
          ]
        },
        {
          "output_type": "execute_result",
          "data": {
            "text/plain": [
              "<matplotlib.axes._subplots.AxesSubplot at 0x7f96223c6790>"
            ]
          },
          "metadata": {},
          "execution_count": 8
        },
        {
          "output_type": "display_data",
          "data": {
            "text/plain": [
              "<Figure size 432x288 with 1 Axes>"
            ],
            "image/png": "[encoded data removed]"
          },
          "metadata": {
            "needs_background": "light"
          }
        }
      ]
    },
    {
      "cell_type": "code",
      "source": [
        "# TOTALDUE - Cantidad total requerida para liquidar el préstamo; este es el valor del préstamo\n",
        "# de capital desembolsado + intereses e impuestos\n",
        "prev.totaldue.describe()\n",
        "sns.boxplot(prev[\"totaldue\"])"
      ],
      "metadata": {
        "colab": {
          "base_uri": "https://localhost:8080/",
          "height": 351
        },
        "id": "MuAePHeOGwtr",
        "outputId": "5a7a80d2-db07-49f6-b46c-ab51a00f6f5e"
      },
      "execution_count": null,
      "outputs": [
        {
          "output_type": "stream",
          "name": "stderr",
          "text": [
            "/usr/local/lib/python3.7/dist-packages/seaborn/_decorators.py:43: FutureWarning: Pass the following variable as a keyword arg: x. From version 0.12, the only valid positional argument will be `data`, and passing other arguments without an explicit keyword will result in an error or misinterpretation.\n",
            "  FutureWarning\n"
          ]
        },
        {
          "output_type": "execute_result",
          "data": {
            "text/plain": [
              "<matplotlib.axes._subplots.AxesSubplot at 0x7f9621c14550>"
            ]
          },
          "metadata": {},
          "execution_count": 9
        },
        {
          "output_type": "display_data",
          "data": {
            "text/plain": [
              "<Figure size 432x288 with 1 Axes>"
            ],
            "image/png": "[encoded data removed]"
          },
          "metadata": {
            "needs_background": "light"
          }
        }
      ]
    },
    {
      "cell_type": "code",
      "source": [
        "# TERMDAYS - Plazo del préstamo\n",
        "prev.termdays.describe()\n",
        "sns.boxplot(prev[\"termdays\"])\n",
        "prev[\"termdays\"].value_counts()"
      ],
      "metadata": {
        "colab": {
          "base_uri": "https://localhost:8080/",
          "height": 421
        },
        "id": "uFLcd0jFGyXC",
        "outputId": "be5c8e2c-dceb-4217-86ba-28e81696a84c"
      },
      "execution_count": null,
      "outputs": [
        {
          "output_type": "stream",
          "name": "stderr",
          "text": [
            "/usr/local/lib/python3.7/dist-packages/seaborn/_decorators.py:43: FutureWarning: Pass the following variable as a keyword arg: x. From version 0.12, the only valid positional argument will be `data`, and passing other arguments without an explicit keyword will result in an error or misinterpretation.\n",
            "  FutureWarning\n"
          ]
        },
        {
          "output_type": "execute_result",
          "data": {
            "text/plain": [
              "30    11045\n",
              "15     6115\n",
              "60      993\n",
              "90       30\n",
              "Name: termdays, dtype: int64"
            ]
          },
          "metadata": {},
          "execution_count": 10
        },
        {
          "output_type": "display_data",
          "data": {
            "text/plain": [
              "<Figure size 432x288 with 1 Axes>"
            ],
            "image/png": "[encoded data removed]"
          },
          "metadata": {
            "needs_background": "light"
          }
        }
      ]
    },
    {
      "cell_type": "markdown",
      "source": [
        "![reparto_prestamos_por_dias.png](data:image/png;base64,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)"
      ],
      "metadata": {
        "id": "QAn0zXZMqfPH"
      }
    },
    {
      "cell_type": "markdown",
      "source": [
        "Los préstamos de 90 días apenas suponen un 0,16% del total de los prestamos del dataset. Los de 60 días representan un 5,46% del total."
      ],
      "metadata": {
        "id": "-FvF_PZvsNKj"
      }
    },
    {
      "cell_type": "markdown",
      "source": [
        "Variables cualitativas"
      ],
      "metadata": {
        "id": "hFw7abtAG6PJ"
      }
    },
    {
      "cell_type": "code",
      "source": [
        "#APPROVEDDATE - Fecha en la que se aprobó el préstamo\n",
        "prev.approveddate.describe()"
      ],
      "metadata": {
        "colab": {
          "base_uri": "https://localhost:8080/"
        },
        "id": "-Hm410dRG0gb",
        "outputId": "14b47a83-d503-40e9-d54b-359238108022"
      },
      "execution_count": null,
      "outputs": [
        {
          "output_type": "execute_result",
          "data": {
            "text/plain": [
              "count                   18183\n",
              "unique                  18172\n",
              "top       2017-04-20 14:00:44\n",
              "freq                        2\n",
              "Name: approveddate, dtype: object"
            ]
          },
          "metadata": {},
          "execution_count": 26
        }
      ]
    },
    {
      "cell_type": "code",
      "source": [
        "#CREATIONDATE - Fecha en que se creó la solicitud del préstamo\n",
        "prev.creationdate.describe()"
      ],
      "metadata": {
        "colab": {
          "base_uri": "https://localhost:8080/"
        },
        "id": "5PUQu4NiG79p",
        "outputId": "d49d6b42-cee4-4500-f153-2d52c9b09561"
      },
      "execution_count": null,
      "outputs": [
        {
          "output_type": "execute_result",
          "data": {
            "text/plain": [
              "count                   18183\n",
              "unique                  18173\n",
              "top       2017-06-12 10:38:36\n",
              "freq                        2\n",
              "Name: creationdate, dtype: object"
            ]
          },
          "metadata": {},
          "execution_count": 12
        }
      ]
    },
    {
      "cell_type": "code",
      "source": [
        "#CLOSEDDATE - Fecha en la cual se liquidó el préstamo\n",
        "prev.closeddate.describe()"
      ],
      "metadata": {
        "colab": {
          "base_uri": "https://localhost:8080/"
        },
        "id": "LVxB0sgTG9Qq",
        "outputId": "d71e0c3c-bc60-4056-ebab-89217772dc3e"
      },
      "execution_count": null,
      "outputs": [
        {
          "output_type": "execute_result",
          "data": {
            "text/plain": [
              "count                   18183\n",
              "unique                  17955\n",
              "top       2016-11-07 00:53:42\n",
              "freq                        5\n",
              "Name: closeddate, dtype: object"
            ]
          },
          "metadata": {},
          "execution_count": 13
        }
      ]
    },
    {
      "cell_type": "code",
      "source": [
        "#FIRSTDUEDATE - Fecha del primer pago en caso de que el plazo sea superior a 30 días.\n",
        "#En el caso de que el plazo sea de más de 60 días, se deben realizar varios pagos mensuales,\n",
        "#y esta fecha refleja la fecha del primer pago\n",
        "prev.firstduedate.describe()"
      ],
      "metadata": {
        "colab": {
          "base_uri": "https://localhost:8080/"
        },
        "id": "F__STCL1G_H8",
        "outputId": "8c0bccdb-4014-4b54-c911-3776052444b4"
      },
      "execution_count": null,
      "outputs": [
        {
          "output_type": "execute_result",
          "data": {
            "text/plain": [
              "count                   18183\n",
              "unique                    363\n",
              "top       2017-07-03 00:00:00\n",
              "freq                      398\n",
              "Name: firstduedate, dtype: object"
            ]
          },
          "metadata": {},
          "execution_count": 14
        }
      ]
    },
    {
      "cell_type": "code",
      "source": [
        "#FIRSTREPAIDDATE - Fecha real en la que se hizo el primer pago\n",
        "prev.firstrepaiddate.describe()"
      ],
      "metadata": {
        "colab": {
          "base_uri": "https://localhost:8080/"
        },
        "id": "FCytvacFHAqU",
        "outputId": "28c53ed1-e48a-47b0-dcff-e44a70b80b80"
      },
      "execution_count": null,
      "outputs": [
        {
          "output_type": "execute_result",
          "data": {
            "text/plain": [
              "count                   18183\n",
              "unique                  18011\n",
              "top       2016-08-04 00:00:00\n",
              "freq                        7\n",
              "Name: firstrepaiddate, dtype: object"
            ]
          },
          "metadata": {},
          "execution_count": 15
        }
      ]
    },
    {
      "cell_type": "code",
      "source": [
        "#LOAN NUMBER - Categorías del préstamo:\n",
        "prev.loannumber.describe()\n",
        "prev[\"loannumber\"].value_counts()"
      ],
      "metadata": {
        "colab": {
          "base_uri": "https://localhost:8080/"
        },
        "id": "Qc3fR2TBHCK-",
        "outputId": "6f9479f0-2b4e-461a-eec1-3016cba57f48"
      },
      "execution_count": null,
      "outputs": [
        {
          "output_type": "execute_result",
          "data": {
            "text/plain": [
              "1     4344\n",
              "2     2969\n",
              "3     2300\n",
              "4     1860\n",
              "5     1535\n",
              "6     1288\n",
              "7     1036\n",
              "8      817\n",
              "9      637\n",
              "10     446\n",
              "11     333\n",
              "12     223\n",
              "13     146\n",
              "14      96\n",
              "15      54\n",
              "16      33\n",
              "17      19\n",
              "18      16\n",
              "19      10\n",
              "20       8\n",
              "21       7\n",
              "22       2\n",
              "24       1\n",
              "23       1\n",
              "25       1\n",
              "26       1\n",
              "Name: loannumber, dtype: int64"
            ]
          },
          "metadata": {},
          "execution_count": 16
        }
      ]
    },
    {
      "cell_type": "markdown",
      "source": [
        "A REVISAR: esta variable quiere decir la cantidad de préstamos que ha pedido un usuario ¿? Por ejemplo, hay 4 usuarios que han pedido 24, 25, 23 y 26 préstamos. Hay 446 usuarios que han pedido 10 préstamos. ¿?"
      ],
      "metadata": {
        "id": "pj7HR6dktRpZ"
      }
    },
    {
      "cell_type": "code",
      "source": [
        "plt.hist(prev.loannumber, edgecolor='black', bins=30)\n",
        "plt.title('Figura X. Loannumber')\n",
        "plt.ylabel('Frecuencia (nº préstamos concedidos)')\n",
        "plt.xlabel('Personas con X préstamos')\n",
        "plt.show()"
      ],
      "metadata": {
        "colab": {
          "base_uri": "https://localhost:8080/",
          "height": 296
        },
        "id": "eXHuUy1JtpcW",
        "outputId": "4365d0c8-14df-4bfd-eb35-cf327bb75bb7"
      },
      "execution_count": null,
      "outputs": [
        {
          "output_type": "display_data",
          "data": {
            "text/plain": [
              "<Figure size 432x288 with 1 Axes>"
            ],
            "image/png": "[encoded data removed]"
          },
          "metadata": {
            "needs_background": "light"
          }
        }
      ]
    },
    {
      "cell_type": "markdown",
      "source": [
        "### dataset: \"train_demograficos\""
      ],
      "metadata": {
        "id": "oLB-qnDFivm0"
      }
    },
    {
      "cell_type": "code",
      "source": [
        "#CUSTOMERID - TRAIN datos demográficos\n",
        "dem.describe()"
      ],
      "metadata": {
        "colab": {
          "base_uri": "https://localhost:8080/",
          "height": 300
        },
        "id": "cY2WwDc5ujG7",
        "outputId": "68501240-d4f4-414b-c846-636881afac7c"
      },
      "execution_count": null,
      "outputs": [
        {
          "output_type": "execute_result",
          "data": {
            "text/plain": [
              "        Unnamed: 0  longitude_gps  latitude_gps\n",
              "count  4346.000000    4346.000000   4346.000000\n",
              "mean   2172.500000       4.626189      7.251356\n",
              "std    1254.726464       7.184832      3.055052\n",
              "min       0.000000    -118.247009    -33.868818\n",
              "25%    1086.250000       3.354953      6.470610\n",
              "50%    2172.500000       3.593302      6.621888\n",
              "75%    3258.750000       6.545220      7.425052\n",
              "max    4345.000000     151.209290     71.228069"
            ],
            "text/html": [
              "\n",
              "  <div id=\"df-ea44d491-0942-420c-a973-7d5e3640403d\">\n",
              "    <div class=\"colab-df-container\">\n",
              "      <div>\n",
              "<style scoped>\n",
              "    .dataframe tbody tr th:only-of-type {\n",
              "        vertical-align: middle;\n",
              "    }\n",
              "\n",
              "    .dataframe tbody tr th {\n",
              "        vertical-align: top;\n",
              "    }\n",
              "\n",
              "    .dataframe thead th {\n",
              "        text-align: right;\n",
              "    }\n",
              "</style>\n",
              "<table border=\"1\" class=\"dataframe\">\n",
              "  <thead>\n",
              "    <tr style=\"text-align: right;\">\n",
              "      <th></th>\n",
              "      <th>Unnamed: 0</th>\n",
              "      <th>longitude_gps</th>\n",
              "      <th>latitude_gps</th>\n",
              "    </tr>\n",
              "  </thead>\n",
              "  <tbody>\n",
              "    <tr>\n",
              "      <th>count</th>\n",
              "      <td>4346.000000</td>\n",
              "      <td>4346.000000</td>\n",
              "      <td>4346.000000</td>\n",
              "    </tr>\n",
              "    <tr>\n",
              "      <th>mean</th>\n",
              "      <td>2172.500000</td>\n",
              "      <td>4.626189</td>\n",
              "      <td>7.251356</td>\n",
              "    </tr>\n",
              "    <tr>\n",
              "      <th>std</th>\n",
              "      <td>1254.726464</td>\n",
              "      <td>7.184832</td>\n",
              "      <td>3.055052</td>\n",
              "    </tr>\n",
              "    <tr>\n",
              "      <th>min</th>\n",
              "      <td>0.000000</td>\n",
              "      <td>-118.247009</td>\n",
              "      <td>-33.868818</td>\n",
              "    </tr>\n",
              "    <tr>\n",
              "      <th>25%</th>\n",
              "      <td>1086.250000</td>\n",
              "      <td>3.354953</td>\n",
              "      <td>6.470610</td>\n",
              "    </tr>\n",
              "    <tr>\n",
              "      <th>50%</th>\n",
              "      <td>2172.500000</td>\n",
              "      <td>3.593302</td>\n",
              "      <td>6.621888</td>\n",
              "    </tr>\n",
              "    <tr>\n",
              "      <th>75%</th>\n",
              "      <td>3258.750000</td>\n",
              "      <td>6.545220</td>\n",
              "      <td>7.425052</td>\n",
              "    </tr>\n",
              "    <tr>\n",
              "      <th>max</th>\n",
              "      <td>4345.000000</td>\n",
              "      <td>151.209290</td>\n",
              "      <td>71.228069</td>\n",
              "    </tr>\n",
              "  </tbody>\n",
              "</table>\n",
              "</div>\n",
              "      <button class=\"colab-df-convert\" onclick=\"convertToInteractive('df-ea44d491-0942-420c-a973-7d5e3640403d')\"\n",
              "              title=\"Convert this dataframe to an interactive table.\"\n",
              "              style=\"display:none;\">\n",
              "        \n",
              "  <svg xmlns=\"http://www.w3.org/2000/svg\" height=\"24px\"viewBox=\"0 0 24 24\"\n",
              "       width=\"24px\">\n",
              "    <path d=\"M0 0h24v24H0V0z\" fill=\"none\"/>\n",
              "    <path d=\"M18.56 5.44l.94 2.06.94-2.06 2.06-.94-2.06-.94-.94-2.06-.94 2.06-2.06.94zm-11 1L8.5 8.5l.94-2.06 2.06-.94-2.06-.94L8.5 2.5l-.94 2.06-2.06.94zm10 10l.94 2.06.94-2.06 2.06-.94-2.06-.94-.94-2.06-.94 2.06-2.06.94z\"/><path d=\"M17.41 7.96l-1.37-1.37c-.4-.4-.92-.59-1.43-.59-.52 0-1.04.2-1.43.59L10.3 9.45l-7.72 7.72c-.78.78-.78 2.05 0 2.83L4 21.41c.39.39.9.59 1.41.59.51 0 1.02-.2 1.41-.59l7.78-7.78 2.81-2.81c.8-.78.8-2.07 0-2.86zM5.41 20L4 18.59l7.72-7.72 1.47 1.35L5.41 20z\"/>\n",
              "  </svg>\n",
              "      </button>\n",
              "      \n",
              "  <style>\n",
              "    .colab-df-container {\n",
              "      display:flex;\n",
              "      flex-wrap:wrap;\n",
              "      gap: 12px;\n",
              "    }\n",
              "\n",
              "    .colab-df-convert {\n",
              "      background-color: #E8F0FE;\n",
              "      border: none;\n",
              "      border-radius: 50%;\n",
              "      cursor: pointer;\n",
              "      display: none;\n",
              "      fill: #1967D2;\n",
              "      height: 32px;\n",
              "      padding: 0 0 0 0;\n",
              "      width: 32px;\n",
              "    }\n",
              "\n",
              "    .colab-df-convert:hover {\n",
              "      background-color: #E2EBFA;\n",
              "      box-shadow: 0px 1px 2px rgba(60, 64, 67, 0.3), 0px 1px 3px 1px rgba(60, 64, 67, 0.15);\n",
              "      fill: #174EA6;\n",
              "    }\n",
              "\n",
              "    [theme=dark] .colab-df-convert {\n",
              "      background-color: #3B4455;\n",
              "      fill: #D2E3FC;\n",
              "    }\n",
              "\n",
              "    [theme=dark] .colab-df-convert:hover {\n",
              "      background-color: #434B5C;\n",
              "      box-shadow: 0px 1px 3px 1px rgba(0, 0, 0, 0.15);\n",
              "      filter: drop-shadow(0px 1px 2px rgba(0, 0, 0, 0.3));\n",
              "      fill: #FFFFFF;\n",
              "    }\n",
              "  </style>\n",
              "\n",
              "      <script>\n",
              "        const buttonEl =\n",
              "          document.querySelector('#df-ea44d491-0942-420c-a973-7d5e3640403d button.colab-df-convert');\n",
              "        buttonEl.style.display =\n",
              "          google.colab.kernel.accessAllowed ? 'block' : 'none';\n",
              "\n",
              "        async function convertToInteractive(key) {\n",
              "          const element = document.querySelector('#df-ea44d491-0942-420c-a973-7d5e3640403d');\n",
              "          const dataTable =\n",
              "            await google.colab.kernel.invokeFunction('convertToInteractive',\n",
              "                                                     [key], {});\n",
              "          if (!dataTable) return;\n",
              "\n",
              "          const docLinkHtml = 'Like what you see? Visit the ' +\n",
              "            '<a target=\"_blank\" href=https://colab.research.google.com/notebooks/data_table.ipynb>data table notebook</a>'\n",
              "            + ' to learn more about interactive tables.';\n",
              "          element.innerHTML = '';\n",
              "          dataTable['output_type'] = 'display_data';\n",
              "          await google.colab.output.renderOutput(dataTable, element);\n",
              "          const docLink = document.createElement('div');\n",
              "          docLink.innerHTML = docLinkHtml;\n",
              "          element.appendChild(docLink);\n",
              "        }\n",
              "      </script>\n",
              "    </div>\n",
              "  </div>\n",
              "  "
            ]
          },
          "metadata": {},
          "execution_count": 31
        }
      ]
    },
    {
      "cell_type": "code",
      "source": [
        "#CUSTOMERID - TRAIN datos demográficos\n",
        "dem.dtypes"
      ],
      "metadata": {
        "colab": {
          "base_uri": "https://localhost:8080/"
        },
        "id": "ze4-LP0riywE",
        "outputId": "d1fcce7a-07e8-4c2d-fa86-c53b9356031b"
      },
      "execution_count": null,
      "outputs": [
        {
          "output_type": "execute_result",
          "data": {
            "text/plain": [
              "Unnamed: 0                      int64\n",
              "customerid                     object\n",
              "birthdate                      object\n",
              "bank_account_type              object\n",
              "longitude_gps                 float64\n",
              "latitude_gps                  float64\n",
              "bank_name_clients              object\n",
              "bank_branch_clients            object\n",
              "employment_status_clients      object\n",
              "level_of_education_clients     object\n",
              "Country                        object\n",
              "city                           object\n",
              "dtype: object"
            ]
          },
          "metadata": {},
          "execution_count": 17
        }
      ]
    },
    {
      "cell_type": "code",
      "source": [
        "#Missing values sobre 4346 del total de los datos\n",
        "dem.isna().sum()"
      ],
      "metadata": {
        "colab": {
          "base_uri": "https://localhost:8080/"
        },
        "id": "5slOv94lHLo5",
        "outputId": "c39d758e-546c-4d2b-b995-586e9a713ec7"
      },
      "execution_count": null,
      "outputs": [
        {
          "output_type": "execute_result",
          "data": {
            "text/plain": [
              "Unnamed: 0                       0\n",
              "customerid                       0\n",
              "birthdate                        0\n",
              "bank_account_type                0\n",
              "longitude_gps                    0\n",
              "latitude_gps                     0\n",
              "bank_name_clients                0\n",
              "bank_branch_clients           4295\n",
              "employment_status_clients      648\n",
              "level_of_education_clients    3759\n",
              "Country                          0\n",
              "city                          3070\n",
              "dtype: int64"
            ]
          },
          "metadata": {},
          "execution_count": 18
        }
      ]
    },
    {
      "cell_type": "code",
      "source": [
        "#BIRTHDATE - Fecha de nacimiento del cliente\n",
        "dem.birthdate.describe()"
      ],
      "metadata": {
        "colab": {
          "base_uri": "https://localhost:8080/"
        },
        "id": "oGM1AhKhusox",
        "outputId": "9359255d-b3c0-4fae-bf8a-a5b07f55a032"
      },
      "execution_count": null,
      "outputs": [
        {
          "output_type": "execute_result",
          "data": {
            "text/plain": [
              "count           4346\n",
              "unique          3297\n",
              "top       1983-10-19\n",
              "freq               5\n",
              "Name: birthdate, dtype: object"
            ]
          },
          "metadata": {},
          "execution_count": 32
        }
      ]
    },
    {
      "cell_type": "code",
      "source": [
        "#BIRTHDATE - Fecha de nacimiento del cliente\n",
        "dem.birthdate.describe()\n",
        "dem[\"birthdate\"].value_counts()"
      ],
      "metadata": {
        "colab": {
          "base_uri": "https://localhost:8080/"
        },
        "id": "PTdasckBHMyK",
        "outputId": "11fc8a8f-5ca4-4918-a3bd-b798fceb289e"
      },
      "execution_count": null,
      "outputs": [
        {
          "output_type": "execute_result",
          "data": {
            "text/plain": [
              "1983-10-19    5\n",
              "1986-07-04    5\n",
              "1984-06-28    5\n",
              "1983-12-16    5\n",
              "1980-09-22    4\n",
              "             ..\n",
              "1990-09-25    1\n",
              "1982-03-05    1\n",
              "1980-01-28    1\n",
              "1993-09-23    1\n",
              "1989-09-26    1\n",
              "Name: birthdate, Length: 3297, dtype: int64"
            ]
          },
          "metadata": {},
          "execution_count": 19
        }
      ]
    },
    {
      "cell_type": "code",
      "source": [
        "#BANK_ACCOUNT_TYPE - Tipo de cuenta bancaria\n",
        "dem.bank_account_type.describe()"
      ],
      "metadata": {
        "colab": {
          "base_uri": "https://localhost:8080/"
        },
        "id": "rCS3M-VyvJAw",
        "outputId": "42cce400-fd64-4004-8ebc-4b3e5be4c6f5"
      },
      "execution_count": null,
      "outputs": [
        {
          "output_type": "execute_result",
          "data": {
            "text/plain": [
              "count        4346\n",
              "unique          3\n",
              "top       Savings\n",
              "freq         3425\n",
              "Name: bank_account_type, dtype: object"
            ]
          },
          "metadata": {},
          "execution_count": 33
        }
      ]
    },
    {
      "cell_type": "code",
      "source": [
        "#BANK_ACCOUNT_TYPE - Tipo de cuenta bancaria\n",
        "\n",
        "dem[\"bank_account_type\"].value_counts()"
      ],
      "metadata": {
        "colab": {
          "base_uri": "https://localhost:8080/"
        },
        "id": "XmdnQHqkHP65",
        "outputId": "927c46de-0a9a-4cdd-ce2e-9a9b7c5a3ebd"
      },
      "execution_count": null,
      "outputs": [
        {
          "output_type": "execute_result",
          "data": {
            "text/plain": [
              "Savings    3425\n",
              "Other       865\n",
              "Current      56\n",
              "Name: bank_account_type, dtype: int64"
            ]
          },
          "metadata": {},
          "execution_count": 20
        }
      ]
    },
    {
      "cell_type": "code",
      "source": [
        "#BANK_NAME_CLIENTS - Nombre del banco\n",
        "dem.bank_name_clients.describe()\n",
        "dem[\"bank_name_clients\"].value_counts()"
      ],
      "metadata": {
        "colab": {
          "base_uri": "https://localhost:8080/"
        },
        "id": "XHnWeI7wHRJ6",
        "outputId": "a33e8597-42c8-403b-9772-7d3907ab1871"
      },
      "execution_count": null,
      "outputs": [
        {
          "output_type": "execute_result",
          "data": {
            "text/plain": [
              "GT Bank               1598\n",
              "First Bank             590\n",
              "Access Bank            432\n",
              "UBA                    353\n",
              "Zenith Bank            301\n",
              "Diamond Bank           282\n",
              "EcoBank                150\n",
              "Stanbic IBTC           145\n",
              "FCMB                   121\n",
              "Fidelity Bank          103\n",
              "Skye Bank              102\n",
              "Sterling Bank           55\n",
              "Wema Bank               28\n",
              "Union Bank              23\n",
              "Heritage Bank           22\n",
              "Keystone Bank           19\n",
              "Standard Chartered      15\n",
              "Unity Bank               7\n",
              "Name: bank_name_clients, dtype: int64"
            ]
          },
          "metadata": {},
          "execution_count": 21
        }
      ]
    },
    {
      "cell_type": "code",
      "source": [
        "#BANK_BRANCH_CLIENTS - Localización del Banco\n",
        "dem.bank_branch_clients.describe()\n",
        "dem[\"bank_branch_clients\"].value_counts()"
      ],
      "metadata": {
        "colab": {
          "base_uri": "https://localhost:8080/"
        },
        "id": "ElFB0dNuHSBg",
        "outputId": "16d63067-cc22-4140-c5aa-7824962194dd"
      },
      "execution_count": null,
      "outputs": [
        {
          "output_type": "execute_result",
          "data": {
            "text/plain": [
              "OGBA                                                              3\n",
              "HEAD OFFICE                                                       2\n",
              "AJOSE ADEOGUN                                                     2\n",
              "OREGUN                                                            2\n",
              "APAPA                                                             2\n",
              "AKOWONJO                                                          1\n",
              "47 LAGOS ROAD, IKORODU                                            1\n",
              "OAU ILE IFE                                                       1\n",
              "RING ROAD                                                         1\n",
              "PLOT 999C DANMOLE STREET, ADEOLA ODEKU, VICTORIA ISLAND, LAGOS    1\n",
              "HERITAGE BANK, DUGBE, IBADAN                                      1\n",
              "ADEOLA HOPEWELL                                                   1\n",
              "WHARF ROAD, APAPA                                                 1\n",
              "ILUPEJU                                                           1\n",
              "LAGOS                                                             1\n",
              "DUGBE,IBADAN                                                      1\n",
              "OGUDU, OJOTA                                                      1\n",
              "GBAGADA                                                           1\n",
              "LEKKI EPE                                                         1\n",
              "MAFOLUKU                                                          1\n",
              "AKURE BRANCH                                                      1\n",
              "17, SANUSI FAFUNWA STREET, VICTORIA ISLAND, LAGOS                 1\n",
              " IDI - ORO MUSHIN                                                 1\n",
              "OBA AKRAN ROAD, IKEJA,                                            1\n",
              "40,SAPELE ROAD ,OPPOSITE DUMAZ JUNCTION BENIN CITY EDO STATE.     1\n",
              "ABULE EGBA U-TURN,BRANCH                                          1\n",
              "ACCESS BANK PLC, CHALLENGE ROUNDABOUT IBADAN, OYO STATE.          1\n",
              "AWOLOWO                                                           1\n",
              "ABULE EGBA                                                        1\n",
              "ABEOKUTA                                                          1\n",
              "TRANS AMADI                                                       1\n",
              "OBA AKRAN BERGER PAINT                                            1\n",
              "BOSSO ROAD, MINNA                                                 1\n",
              "DUGBE, IBADAN                                                     1\n",
              "ALAUSA                                                            1\n",
              "OJUELEGBA                                                         1\n",
              "MUSHIN BRANCH                                                     1\n",
              "AKUTE                                                             1\n",
              "OBA ADEBIMPE                                                      1\n",
              "STERLING BANK PLC 102, IJU ROAD, IFAKO BRANCH                     1\n",
              "MEDICAL ROAD IKEJA                                                1\n",
              "ADENIRAN OGUNSANYA                                                1\n",
              "OBA AKRAN                                                         1\n",
              "LADIPO                                                            1\n",
              "TINCAN                                                            1\n",
              "Name: bank_branch_clients, dtype: int64"
            ]
          },
          "metadata": {},
          "execution_count": 22
        }
      ]
    },
    {
      "cell_type": "code",
      "source": [
        "#EMPLOYMENT_STATUS_CLIENTS - Tipo de empleo del cliente\n",
        "dem.employment_status_clients.describe()\n",
        "dem.employment_status_clients.value_counts()"
      ],
      "metadata": {
        "colab": {
          "base_uri": "https://localhost:8080/"
        },
        "id": "uEdEryuTHT3o",
        "outputId": "24431096-0cc5-4e93-d8d2-5d919c3a949e"
      },
      "execution_count": null,
      "outputs": [
        {
          "output_type": "execute_result",
          "data": {
            "text/plain": [
              "Permanent        3146\n",
              "Self-Employed     348\n",
              "Student           142\n",
              "Unemployed         57\n",
              "Retired             4\n",
              "Contract            1\n",
              "Name: employment_status_clients, dtype: int64"
            ]
          },
          "metadata": {},
          "execution_count": 23
        }
      ]
    },
    {
      "cell_type": "code",
      "source": [
        "# Pie chart, where the slices will be ordered and plotted counter-clockwise:\n",
        "# labels = dem.employment_status_clients.unique()\n",
        "labels = 'Permanent', 'Self-Employed', 'Student', 'Unemployed', 'Retired', 'Contract'\n",
        "sizes = dem.employment_status_clients.value_counts()\n",
        "explode = (0.1, 0.1, 0.1, 0.1, 0.1, 0.1)  # only \"explode\" the 2nd slice (i.e. 'Hogs')\n",
        "\n",
        "fig1, ax1 = plt.subplots()\n",
        "ax1.pie(sizes, explode=explode, labels=labels, autopct='%1.1f%%',\n",
        "        shadow=True, startangle=90)\n",
        "ax1.axis('equal')  # Equal aspect ratio ensures that pie is drawn as a circle.\n",
        "\n",
        "plt.show()"
      ],
      "metadata": {
        "colab": {
          "base_uri": "https://localhost:8080/",
          "height": 252
        },
        "id": "kczROSoAv40t",
        "outputId": "20c0ec73-17e2-46d8-e731-e9b9765cfb77"
      },
      "execution_count": null,
      "outputs": [
        {
          "output_type": "display_data",
          "data": {
            "text/plain": [
              "<Figure size 432x288 with 1 Axes>"
            ],
            "image/png": "[encoded data removed]"
          },
          "metadata": {}
        }
      ]
    },
    {
      "cell_type": "markdown",
      "source": [
        "Arreglar los textos del gráfico"
      ],
      "metadata": {
        "id": "-5Mbls8ZyFZ1"
      }
    },
    {
      "cell_type": "code",
      "source": [
        "#LEVEL_OF_EDUCATION_CLIENTs - Nivel de estudios del cliente\n",
        "dem.level_of_education_clients.describe()\n",
        "dem[\"level_of_education_clients\"].value_counts()"
      ],
      "metadata": {
        "colab": {
          "base_uri": "https://localhost:8080/"
        },
        "id": "n9T732tfHVfw",
        "outputId": "712a3cda-bd4a-4cbc-b268-074eb34e5e55"
      },
      "execution_count": null,
      "outputs": [
        {
          "output_type": "execute_result",
          "data": {
            "text/plain": [
              "Graduate         420\n",
              "Secondary         89\n",
              "Post-Graduate     68\n",
              "Primary           10\n",
              "Name: level_of_education_clients, dtype: int64"
            ]
          },
          "metadata": {},
          "execution_count": 24
        }
      ]
    },
    {
      "cell_type": "markdown",
      "source": [
        "## 01_Procesamiento"
      ],
      "metadata": {
        "id": "bK3L7Lp_kmqN"
      }
    },
    {
      "cell_type": "markdown",
      "source": [
        "### *train_previous_loan*"
      ],
      "metadata": {
        "id": "kk86_jK9k3LB"
      }
    },
    {
      "cell_type": "code",
      "source": [
        "#Convertir los campos que contengan fechas a formato \"Date_Time\"\n",
        "prev[[\"approveddate\",\"creationdate\",\"closeddate\",\"firstduedate\",\"firstrepaiddate\"]] = prev[[\"approveddate\",\n",
        "                                                                                             \"creationdate\",\n",
        "                                                                                             \"closeddate\",\n",
        "                                                                                             \"firstduedate\",\n",
        "                                                                                             \"firstrepaiddate\"]].apply(pd.to_datetime)"
      ],
      "metadata": {
        "id": "iQ7zlXodk86a"
      },
      "execution_count": null,
      "outputs": []
    },
    {
      "cell_type": "markdown",
      "source": [
        "#### Creación nuevas variables"
      ],
      "metadata": {
        "id": "riYCREfdlWkN"
      }
    },
    {
      "cell_type": "markdown",
      "source": [
        "A partir de las variables de este dataset, decidimos crear las siguientes:\n",
        "\n",
        "\n",
        "*   \"num_prest\" = número de préstamos por cliente\n",
        "*   \"tipo_int\" = tipo de interés de cada préstamo\n",
        "*   \"diff_approv_closed_date\" = duración en días que tardó el cliente en devolver el préstamo\n",
        "*   \"Good_bad_flag\" = variable target - indica si el cliente pago su deuda dentro del plazo establecido"
      ],
      "metadata": {
        "id": "vkjntJgwlb6J"
      }
    },
    {
      "cell_type": "code",
      "source": [
        "#Número de préstamos por cliente:\n",
        "prev[\"num_prest\"] = prev.groupby(\"customerid\")[\"systemloanid\"].transform(\"size\")    \n",
        "prev.num_prest.describe()"
      ],
      "metadata": {
        "colab": {
          "base_uri": "https://localhost:8080/"
        },
        "id": "EDCCi_lUmOVr",
        "outputId": "8278caac-56b0-4d38-a5af-63f9ceea7281"
      },
      "execution_count": null,
      "outputs": [
        {
          "output_type": "execute_result",
          "data": {
            "text/plain": [
              "count    18183.000000\n",
              "mean         7.372876\n",
              "std          4.282959\n",
              "min          1.000000\n",
              "25%          4.000000\n",
              "50%          7.000000\n",
              "75%         10.000000\n",
              "max         26.000000\n",
              "Name: num_prest, dtype: float64"
            ]
          },
          "metadata": {},
          "execution_count": 49
        }
      ]
    },
    {
      "cell_type": "code",
      "source": [
        "#Tipo de interés del préstamo:\n",
        "prev[\"tipo_int\"] = ((prev[\"totaldue\"] - prev[\"loanamount\"])/prev[\"loanamount\"])\n",
        "prev.tipo_int.describe()"
      ],
      "metadata": {
        "colab": {
          "base_uri": "https://localhost:8080/"
        },
        "id": "v7_f94BomY9q",
        "outputId": "7c5851d5-12f5-4bc5-a607-ca364fcacd56"
      },
      "execution_count": null,
      "outputs": [
        {
          "output_type": "execute_result",
          "data": {
            "text/plain": [
              "count    18183.000000\n",
              "mean         0.203706\n",
              "std          0.074354\n",
              "min          0.000000\n",
              "25%          0.150000\n",
              "50%          0.190000\n",
              "75%          0.300000\n",
              "max          0.300000\n",
              "Name: tipo_int, dtype: float64"
            ]
          },
          "metadata": {},
          "execution_count": 48
        }
      ]
    },
    {
      "cell_type": "code",
      "source": [
        "plt.hist(prev.tipo_int, edgecolor='black', bins=20)\n",
        "plt.title('Figura X. Tipos de interés de los préstamos')\n",
        "plt.ylabel('Frecuencia (nº préstamos)')\n",
        "plt.xlabel('Tipos de interés préstamos, tanto por uno')\n",
        "plt.show()"
      ],
      "metadata": {
        "colab": {
          "base_uri": "https://localhost:8080/",
          "height": 296
        },
        "id": "2b9WPXedymES",
        "outputId": "835b1de0-8fe4-40a8-cca6-08290f9f6ce9"
      },
      "execution_count": null,
      "outputs": [
        {
          "output_type": "display_data",
          "data": {
            "text/plain": [
              "<Figure size 432x288 with 1 Axes>"
            ],
            "image/png": "[encoded data removed]"
          },
          "metadata": {
            "needs_background": "light"
          }
        }
      ]
    },
    {
      "cell_type": "code",
      "source": [
        "#Restar la fecha de liquidación del préstamo por la fecha de aprobación para obtener los días que tardó el cliente en pagar la totalidad de la deuda:\n",
        "prev[\"diff_approv_closed_date\"] = (prev[\"closeddate\"] - prev[\"approveddate\"]).dt.days\n",
        "prev.diff_approv_closed_date.describe()"
      ],
      "metadata": {
        "id": "CDF1KTGil3Vp",
        "colab": {
          "base_uri": "https://localhost:8080/"
        },
        "outputId": "ca187eab-e7b3-468f-a218-e5f5775c6351"
      },
      "execution_count": null,
      "outputs": [
        {
          "output_type": "execute_result",
          "data": {
            "text/plain": [
              "count    18183.00000\n",
              "mean        23.38041\n",
              "std         13.25201\n",
              "min          0.00000\n",
              "25%         14.00000\n",
              "50%         25.00000\n",
              "75%         29.00000\n",
              "max        380.00000\n",
              "Name: diff_approv_closed_date, dtype: float64"
            ]
          },
          "metadata": {},
          "execution_count": 56
        }
      ]
    },
    {
      "cell_type": "markdown",
      "source": [
        "Creamos la variable target \"Good_bad_flag\": \n",
        "- si el plazo del préstamo es superior o igual al tiempo que tardó el cliente en pagar = \"Good\"\n",
        "- si el plazo del préstamo es inferior al tiempo que tardó el cliente en pagar = \"Bad\"\n"
      ],
      "metadata": {
        "id": "uWD4dNVYoTJS"
      }
    },
    {
      "cell_type": "code",
      "source": [
        "prev.loc[prev[\"termdays\"] >= prev[\"diff_approv_closed_date\"], \"Good_bad_flag\"] = \"Good\"            \n",
        "prev.loc[prev[\"termdays\"] < prev[\"diff_approv_closed_date\"], \"Good_bad_flag\"] = \"Bad\"   \n",
        "\n",
        "prev.Good_bad_flag.hist()"
      ],
      "metadata": {
        "colab": {
          "base_uri": "https://localhost:8080/",
          "height": 282
        },
        "id": "owSVf1_MoLhF",
        "outputId": "f9af7394-6b00-4572-9c64-63578e6299ff"
      },
      "execution_count": null,
      "outputs": [
        {
          "output_type": "execute_result",
          "data": {
            "text/plain": [
              "<matplotlib.axes._subplots.AxesSubplot at 0x7f711e1ed750>"
            ]
          },
          "metadata": {},
          "execution_count": 78
        },
        {
          "output_type": "display_data",
          "data": {
            "text/plain": [
              "<Figure size 432x288 with 1 Axes>"
            ],
            "image/png": "[encoded data removed]"
          },
          "metadata": {
            "needs_background": "light"
          }
        }
      ]
    },
    {
      "cell_type": "markdown",
      "source": [
        "#### Missing values"
      ],
      "metadata": {
        "id": "lNexePjTnHyd"
      }
    },
    {
      "cell_type": "markdown",
      "source": [
        "Solo la variable \"Referredby\" tiene valores nulos. Decidimos recodificarla como variable categórica, en la que los \"customer_id\" relacionados tendrán el valor 1, y los valores vacíos 0."
      ],
      "metadata": {
        "id": "wziDwxrCnZPj"
      }
    },
    {
      "cell_type": "code",
      "source": [
        "prev.isna().sum()"
      ],
      "metadata": {
        "colab": {
          "base_uri": "https://localhost:8080/"
        },
        "id": "0Ty1BRE4q94J",
        "outputId": "43bb3d20-0297-467a-d940-619dfe2fcd26"
      },
      "execution_count": null,
      "outputs": [
        {
          "output_type": "execute_result",
          "data": {
            "text/plain": [
              "Unnamed: 0                     0\n",
              "customerid                     0\n",
              "systemloanid                   0\n",
              "loannumber                     0\n",
              "approveddate                   0\n",
              "creationdate                   0\n",
              "loanamount                     0\n",
              "totaldue                       0\n",
              "termdays                       0\n",
              "closeddate                     0\n",
              "referredby                 17157\n",
              "firstduedate                   0\n",
              "firstrepaiddate                0\n",
              "diff_approv_closed_date        0\n",
              "Good_bad_flag                  0\n",
              "num_prest                      0\n",
              "tipo_int                       0\n",
              "dtype: int64"
            ]
          },
          "metadata": {},
          "execution_count": 57
        }
      ]
    },
    {
      "cell_type": "code",
      "source": [
        "#Referredby = nan to 0 and customerid to 1\n",
        "prev[\"referredby\"] = prev[\"referredby\"].fillna(0)\n",
        "prev[\"referredby\"] = prev[\"referredby\"].apply(lambda x: 1 if x!=0 else 0)\n",
        "prev[\"referredby\"].value_counts()"
      ],
      "metadata": {
        "colab": {
          "base_uri": "https://localhost:8080/"
        },
        "id": "hPItJu78nM6K",
        "outputId": "c4e89fb8-4ccd-45d2-d419-5748278d6f2e"
      },
      "execution_count": null,
      "outputs": [
        {
          "output_type": "execute_result",
          "data": {
            "text/plain": [
              "0    17157\n",
              "1     1026\n",
              "Name: referredby, dtype: int64"
            ]
          },
          "metadata": {},
          "execution_count": 80
        }
      ]
    },
    {
      "cell_type": "code",
      "source": [
        "prev"
      ],
      "metadata": {
        "colab": {
          "base_uri": "https://localhost:8080/",
          "height": 679
        },
        "id": "xmPN3h_lqq3u",
        "outputId": "62eaa348-f08e-4a59-949c-b49146c34a6d"
      },
      "execution_count": null,
      "outputs": [
        {
          "output_type": "execute_result",
          "data": {
            "text/plain": [
              "       Unnamed: 0                        customerid  systemloanid  loannumber  \\\n",
              "0               0  8a2a81a74ce8c05d014cfb32a0da1049     301682320           2   \n",
              "1               1  8a2a81a74ce8c05d014cfb32a0da1049     301883808           9   \n",
              "2               2  8a2a81a74ce8c05d014cfb32a0da1049     301831714           8   \n",
              "3               3  8a8588f35438fe12015444567666018e     301861541           5   \n",
              "4               4  8a85890754145ace015429211b513e16     301941754           2   \n",
              "...           ...                               ...           ...         ...   \n",
              "18178       18178  8a858899538ddb8e0153a2b555421fc5     301611754           2   \n",
              "18179       18179  8a858899538ddb8e0153a2b555421fc5     301761267           9   \n",
              "18180       18180  8a858899538ddb8e0153a2b555421fc5     301631653           4   \n",
              "18181       18181  8a858f0656b7820c0156c92ca3ba436f     301697691           1   \n",
              "18182       18182  8a858faf5679a838015688de3028143d     301715255           2   \n",
              "\n",
              "             approveddate        creationdate  loanamount  totaldue  termdays  \\\n",
              "0     2016-08-15 18:22:40 2016-08-15 17:22:32     10000.0   13000.0        30   \n",
              "1     2017-04-28 18:39:07 2017-04-28 17:38:53     10000.0   13000.0        30   \n",
              "2     2017-03-05 10:56:25 2017-03-05 09:56:19     20000.0   23800.0        30   \n",
              "3     2017-04-09 18:25:55 2017-04-09 17:25:42     10000.0   11500.0        15   \n",
              "4     2017-06-17 09:29:57 2017-06-17 08:29:50     10000.0   11500.0        15   \n",
              "...                   ...                 ...         ...       ...       ...   \n",
              "18178 2016-04-16 13:36:34 2016-04-16 12:36:28     10000.0   13000.0        30   \n",
              "18179 2016-11-18 14:26:07 2016-11-18 13:25:51     30000.0   34400.0        30   \n",
              "18180 2016-06-12 15:30:56 2016-06-12 14:30:50     10000.0   13000.0        30   \n",
              "18181 2016-08-27 20:03:45 2016-08-27 19:03:34     10000.0   13000.0        30   \n",
              "18182 2016-09-14 23:42:14 2016-09-14 22:42:05     10000.0   13000.0        30   \n",
              "\n",
              "               closeddate  referredby firstduedate     firstrepaiddate  \\\n",
              "0     2016-09-01 16:06:48           0   2016-09-14 2016-09-01 15:51:43   \n",
              "1     2017-05-28 14:44:49           0   2017-05-30 2017-05-26 00:00:00   \n",
              "2     2017-04-26 22:18:56           0   2017-04-04 2017-04-26 22:03:47   \n",
              "3     2017-04-24 01:35:52           0   2017-04-24 2017-04-24 00:48:43   \n",
              "4     2017-07-14 21:18:43           0   2017-07-03 2017-07-14 21:08:35   \n",
              "...                   ...         ...          ...                 ...   \n",
              "18178 2016-05-14 00:04:52           0   2016-05-16 2016-05-13 18:05:07   \n",
              "18179 2016-12-13 16:08:57           0   2016-12-19 2016-12-13 15:53:48   \n",
              "18180 2016-07-09 15:39:00           0   2016-07-12 2016-07-09 15:23:56   \n",
              "18181 2016-10-15 10:17:54           0   2016-09-26 2016-10-15 10:02:45   \n",
              "18182 2016-09-29 19:51:04           0   2016-10-14 2016-09-29 19:35:55   \n",
              "\n",
              "       diff_approv_closed_date Good_bad_flag  num_prest  tipo_int  \n",
              "0                           16          Good         11  0.300000  \n",
              "1                           29          Good         11  0.300000  \n",
              "2                           52           Bad         11  0.190000  \n",
              "3                           14          Good          6  0.150000  \n",
              "4                           27           Bad          2  0.150000  \n",
              "...                        ...           ...        ...       ...  \n",
              "18178                       27          Good         13  0.300000  \n",
              "18179                       25          Good         13  0.146667  \n",
              "18180                       27          Good         13  0.300000  \n",
              "18181                       48           Bad          1  0.300000  \n",
              "18182                       14          Good          2  0.300000  \n",
              "\n",
              "[18183 rows x 17 columns]"
            ],
            "text/html": [
              "\n",
              "  <div id=\"df-10377bed-7a3e-47da-a32b-5081f0d10f71\">\n",
              "    <div class=\"colab-df-container\">\n",
              "      <div>\n",
              "<style scoped>\n",
              "    .dataframe tbody tr th:only-of-type {\n",
              "        vertical-align: middle;\n",
              "    }\n",
              "\n",
              "    .dataframe tbody tr th {\n",
              "        vertical-align: top;\n",
              "    }\n",
              "\n",
              "    .dataframe thead th {\n",
              "        text-align: right;\n",
              "    }\n",
              "</style>\n",
              "<table border=\"1\" class=\"dataframe\">\n",
              "  <thead>\n",
              "    <tr style=\"text-align: right;\">\n",
              "      <th></th>\n",
              "      <th>Unnamed: 0</th>\n",
              "      <th>customerid</th>\n",
              "      <th>systemloanid</th>\n",
              "      <th>loannumber</th>\n",
              "      <th>approveddate</th>\n",
              "      <th>creationdate</th>\n",
              "      <th>loanamount</th>\n",
              "      <th>totaldue</th>\n",
              "      <th>termdays</th>\n",
              "      <th>closeddate</th>\n",
              "      <th>referredby</th>\n",
              "      <th>firstduedate</th>\n",
              "      <th>firstrepaiddate</th>\n",
              "      <th>diff_approv_closed_date</th>\n",
              "      <th>Good_bad_flag</th>\n",
              "      <th>num_prest</th>\n",
              "      <th>tipo_int</th>\n",
              "    </tr>\n",
              "  </thead>\n",
              "  <tbody>\n",
              "    <tr>\n",
              "      <th>0</th>\n",
              "      <td>0</td>\n",
              "      <td>8a2a81a74ce8c05d014cfb32a0da1049</td>\n",
              "      <td>301682320</td>\n",
              "      <td>2</td>\n",
              "      <td>2016-08-15 18:22:40</td>\n",
              "      <td>2016-08-15 17:22:32</td>\n",
              "      <td>10000.0</td>\n",
              "      <td>13000.0</td>\n",
              "      <td>30</td>\n",
              "      <td>2016-09-01 16:06:48</td>\n",
              "      <td>0</td>\n",
              "      <td>2016-09-14</td>\n",
              "      <td>2016-09-01 15:51:43</td>\n",
              "      <td>16</td>\n",
              "      <td>Good</td>\n",
              "      <td>11</td>\n",
              "      <td>0.300000</td>\n",
              "    </tr>\n",
              "    <tr>\n",
              "      <th>1</th>\n",
              "      <td>1</td>\n",
              "      <td>8a2a81a74ce8c05d014cfb32a0da1049</td>\n",
              "      <td>301883808</td>\n",
              "      <td>9</td>\n",
              "      <td>2017-04-28 18:39:07</td>\n",
              "      <td>2017-04-28 17:38:53</td>\n",
              "      <td>10000.0</td>\n",
              "      <td>13000.0</td>\n",
              "      <td>30</td>\n",
              "      <td>2017-05-28 14:44:49</td>\n",
              "      <td>0</td>\n",
              "      <td>2017-05-30</td>\n",
              "      <td>2017-05-26 00:00:00</td>\n",
              "      <td>29</td>\n",
              "      <td>Good</td>\n",
              "      <td>11</td>\n",
              "      <td>0.300000</td>\n",
              "    </tr>\n",
              "    <tr>\n",
              "      <th>2</th>\n",
              "      <td>2</td>\n",
              "      <td>8a2a81a74ce8c05d014cfb32a0da1049</td>\n",
              "      <td>301831714</td>\n",
              "      <td>8</td>\n",
              "      <td>2017-03-05 10:56:25</td>\n",
              "      <td>2017-03-05 09:56:19</td>\n",
              "      <td>20000.0</td>\n",
              "      <td>23800.0</td>\n",
              "      <td>30</td>\n",
              "      <td>2017-04-26 22:18:56</td>\n",
              "      <td>0</td>\n",
              "      <td>2017-04-04</td>\n",
              "      <td>2017-04-26 22:03:47</td>\n",
              "      <td>52</td>\n",
              "      <td>Bad</td>\n",
              "      <td>11</td>\n",
              "      <td>0.190000</td>\n",
              "    </tr>\n",
              "    <tr>\n",
              "      <th>3</th>\n",
              "      <td>3</td>\n",
              "      <td>8a8588f35438fe12015444567666018e</td>\n",
              "      <td>301861541</td>\n",
              "      <td>5</td>\n",
              "      <td>2017-04-09 18:25:55</td>\n",
              "      <td>2017-04-09 17:25:42</td>\n",
              "      <td>10000.0</td>\n",
              "      <td>11500.0</td>\n",
              "      <td>15</td>\n",
              "      <td>2017-04-24 01:35:52</td>\n",
              "      <td>0</td>\n",
              "      <td>2017-04-24</td>\n",
              "      <td>2017-04-24 00:48:43</td>\n",
              "      <td>14</td>\n",
              "      <td>Good</td>\n",
              "      <td>6</td>\n",
              "      <td>0.150000</td>\n",
              "    </tr>\n",
              "    <tr>\n",
              "      <th>4</th>\n",
              "      <td>4</td>\n",
              "      <td>8a85890754145ace015429211b513e16</td>\n",
              "      <td>301941754</td>\n",
              "      <td>2</td>\n",
              "      <td>2017-06-17 09:29:57</td>\n",
              "      <td>2017-06-17 08:29:50</td>\n",
              "      <td>10000.0</td>\n",
              "      <td>11500.0</td>\n",
              "      <td>15</td>\n",
              "      <td>2017-07-14 21:18:43</td>\n",
              "      <td>0</td>\n",
              "      <td>2017-07-03</td>\n",
              "      <td>2017-07-14 21:08:35</td>\n",
              "      <td>27</td>\n",
              "      <td>Bad</td>\n",
              "      <td>2</td>\n",
              "      <td>0.150000</td>\n",
              "    </tr>\n",
              "    <tr>\n",
              "      <th>...</th>\n",
              "      <td>...</td>\n",
              "      <td>...</td>\n",
              "      <td>...</td>\n",
              "      <td>...</td>\n",
              "      <td>...</td>\n",
              "      <td>...</td>\n",
              "      <td>...</td>\n",
              "      <td>...</td>\n",
              "      <td>...</td>\n",
              "      <td>...</td>\n",
              "      <td>...</td>\n",
              "      <td>...</td>\n",
              "      <td>...</td>\n",
              "      <td>...</td>\n",
              "      <td>...</td>\n",
              "      <td>...</td>\n",
              "      <td>...</td>\n",
              "    </tr>\n",
              "    <tr>\n",
              "      <th>18178</th>\n",
              "      <td>18178</td>\n",
              "      <td>8a858899538ddb8e0153a2b555421fc5</td>\n",
              "      <td>301611754</td>\n",
              "      <td>2</td>\n",
              "      <td>2016-04-16 13:36:34</td>\n",
              "      <td>2016-04-16 12:36:28</td>\n",
              "      <td>10000.0</td>\n",
              "      <td>13000.0</td>\n",
              "      <td>30</td>\n",
              "      <td>2016-05-14 00:04:52</td>\n",
              "      <td>0</td>\n",
              "      <td>2016-05-16</td>\n",
              "      <td>2016-05-13 18:05:07</td>\n",
              "      <td>27</td>\n",
              "      <td>Good</td>\n",
              "      <td>13</td>\n",
              "      <td>0.300000</td>\n",
              "    </tr>\n",
              "    <tr>\n",
              "      <th>18179</th>\n",
              "      <td>18179</td>\n",
              "      <td>8a858899538ddb8e0153a2b555421fc5</td>\n",
              "      <td>301761267</td>\n",
              "      <td>9</td>\n",
              "      <td>2016-11-18 14:26:07</td>\n",
              "      <td>2016-11-18 13:25:51</td>\n",
              "      <td>30000.0</td>\n",
              "      <td>34400.0</td>\n",
              "      <td>30</td>\n",
              "      <td>2016-12-13 16:08:57</td>\n",
              "      <td>0</td>\n",
              "      <td>2016-12-19</td>\n",
              "      <td>2016-12-13 15:53:48</td>\n",
              "      <td>25</td>\n",
              "      <td>Good</td>\n",
              "      <td>13</td>\n",
              "      <td>0.146667</td>\n",
              "    </tr>\n",
              "    <tr>\n",
              "      <th>18180</th>\n",
              "      <td>18180</td>\n",
              "      <td>8a858899538ddb8e0153a2b555421fc5</td>\n",
              "      <td>301631653</td>\n",
              "      <td>4</td>\n",
              "      <td>2016-06-12 15:30:56</td>\n",
              "      <td>2016-06-12 14:30:50</td>\n",
              "      <td>10000.0</td>\n",
              "      <td>13000.0</td>\n",
              "      <td>30</td>\n",
              "      <td>2016-07-09 15:39:00</td>\n",
              "      <td>0</td>\n",
              "      <td>2016-07-12</td>\n",
              "      <td>2016-07-09 15:23:56</td>\n",
              "      <td>27</td>\n",
              "      <td>Good</td>\n",
              "      <td>13</td>\n",
              "      <td>0.300000</td>\n",
              "    </tr>\n",
              "    <tr>\n",
              "      <th>18181</th>\n",
              "      <td>18181</td>\n",
              "      <td>8a858f0656b7820c0156c92ca3ba436f</td>\n",
              "      <td>301697691</td>\n",
              "      <td>1</td>\n",
              "      <td>2016-08-27 20:03:45</td>\n",
              "      <td>2016-08-27 19:03:34</td>\n",
              "      <td>10000.0</td>\n",
              "      <td>13000.0</td>\n",
              "      <td>30</td>\n",
              "      <td>2016-10-15 10:17:54</td>\n",
              "      <td>0</td>\n",
              "      <td>2016-09-26</td>\n",
              "      <td>2016-10-15 10:02:45</td>\n",
              "      <td>48</td>\n",
              "      <td>Bad</td>\n",
              "      <td>1</td>\n",
              "      <td>0.300000</td>\n",
              "    </tr>\n",
              "    <tr>\n",
              "      <th>18182</th>\n",
              "      <td>18182</td>\n",
              "      <td>8a858faf5679a838015688de3028143d</td>\n",
              "      <td>301715255</td>\n",
              "      <td>2</td>\n",
              "      <td>2016-09-14 23:42:14</td>\n",
              "      <td>2016-09-14 22:42:05</td>\n",
              "      <td>10000.0</td>\n",
              "      <td>13000.0</td>\n",
              "      <td>30</td>\n",
              "      <td>2016-09-29 19:51:04</td>\n",
              "      <td>0</td>\n",
              "      <td>2016-10-14</td>\n",
              "      <td>2016-09-29 19:35:55</td>\n",
              "      <td>14</td>\n",
              "      <td>Good</td>\n",
              "      <td>2</td>\n",
              "      <td>0.300000</td>\n",
              "    </tr>\n",
              "  </tbody>\n",
              "</table>\n",
              "<p>18183 rows × 17 columns</p>\n",
              "</div>\n",
              "      <button class=\"colab-df-convert\" onclick=\"convertToInteractive('df-10377bed-7a3e-47da-a32b-5081f0d10f71')\"\n",
              "              title=\"Convert this dataframe to an interactive table.\"\n",
              "              style=\"display:none;\">\n",
              "        \n",
              "  <svg xmlns=\"http://www.w3.org/2000/svg\" height=\"24px\"viewBox=\"0 0 24 24\"\n",
              "       width=\"24px\">\n",
              "    <path d=\"M0 0h24v24H0V0z\" fill=\"none\"/>\n",
              "    <path d=\"M18.56 5.44l.94 2.06.94-2.06 2.06-.94-2.06-.94-.94-2.06-.94 2.06-2.06.94zm-11 1L8.5 8.5l.94-2.06 2.06-.94-2.06-.94L8.5 2.5l-.94 2.06-2.06.94zm10 10l.94 2.06.94-2.06 2.06-.94-2.06-.94-.94-2.06-.94 2.06-2.06.94z\"/><path d=\"M17.41 7.96l-1.37-1.37c-.4-.4-.92-.59-1.43-.59-.52 0-1.04.2-1.43.59L10.3 9.45l-7.72 7.72c-.78.78-.78 2.05 0 2.83L4 21.41c.39.39.9.59 1.41.59.51 0 1.02-.2 1.41-.59l7.78-7.78 2.81-2.81c.8-.78.8-2.07 0-2.86zM5.41 20L4 18.59l7.72-7.72 1.47 1.35L5.41 20z\"/>\n",
              "  </svg>\n",
              "      </button>\n",
              "      \n",
              "  <style>\n",
              "    .colab-df-container {\n",
              "      display:flex;\n",
              "      flex-wrap:wrap;\n",
              "      gap: 12px;\n",
              "    }\n",
              "\n",
              "    .colab-df-convert {\n",
              "      background-color: #E8F0FE;\n",
              "      border: none;\n",
              "      border-radius: 50%;\n",
              "      cursor: pointer;\n",
              "      display: none;\n",
              "      fill: #1967D2;\n",
              "      height: 32px;\n",
              "      padding: 0 0 0 0;\n",
              "      width: 32px;\n",
              "    }\n",
              "\n",
              "    .colab-df-convert:hover {\n",
              "      background-color: #E2EBFA;\n",
              "      box-shadow: 0px 1px 2px rgba(60, 64, 67, 0.3), 0px 1px 3px 1px rgba(60, 64, 67, 0.15);\n",
              "      fill: #174EA6;\n",
              "    }\n",
              "\n",
              "    [theme=dark] .colab-df-convert {\n",
              "      background-color: #3B4455;\n",
              "      fill: #D2E3FC;\n",
              "    }\n",
              "\n",
              "    [theme=dark] .colab-df-convert:hover {\n",
              "      background-color: #434B5C;\n",
              "      box-shadow: 0px 1px 3px 1px rgba(0, 0, 0, 0.15);\n",
              "      filter: drop-shadow(0px 1px 2px rgba(0, 0, 0, 0.3));\n",
              "      fill: #FFFFFF;\n",
              "    }\n",
              "  </style>\n",
              "\n",
              "      <script>\n",
              "        const buttonEl =\n",
              "          document.querySelector('#df-10377bed-7a3e-47da-a32b-5081f0d10f71 button.colab-df-convert');\n",
              "        buttonEl.style.display =\n",
              "          google.colab.kernel.accessAllowed ? 'block' : 'none';\n",
              "\n",
              "        async function convertToInteractive(key) {\n",
              "          const element = document.querySelector('#df-10377bed-7a3e-47da-a32b-5081f0d10f71');\n",
              "          const dataTable =\n",
              "            await google.colab.kernel.invokeFunction('convertToInteractive',\n",
              "                                                     [key], {});\n",
              "          if (!dataTable) return;\n",
              "\n",
              "          const docLinkHtml = 'Like what you see? Visit the ' +\n",
              "            '<a target=\"_blank\" href=https://colab.research.google.com/notebooks/data_table.ipynb>data table notebook</a>'\n",
              "            + ' to learn more about interactive tables.';\n",
              "          element.innerHTML = '';\n",
              "          dataTable['output_type'] = 'display_data';\n",
              "          await google.colab.output.renderOutput(dataTable, element);\n",
              "          const docLink = document.createElement('div');\n",
              "          docLink.innerHTML = docLinkHtml;\n",
              "          element.appendChild(docLink);\n",
              "        }\n",
              "      </script>\n",
              "    </div>\n",
              "  </div>\n",
              "  "
            ]
          },
          "metadata": {},
          "execution_count": 81
        }
      ]
    },
    {
      "cell_type": "markdown",
      "source": [
        "### *train_demograficos*"
      ],
      "metadata": {
        "id": "4Fjy4TqDqad1"
      }
    },
    {
      "cell_type": "code",
      "source": [
        "#Convertir los campos que contengan fechas a formato \"Date_Time\":\n",
        "dem[[\"birthdate\"]] = dem[[\"birthdate\"]].apply(pd.to_datetime)\n",
        "#Coordenadas a Float\n",
        "dem[[\"longitude_gps\", \"latitude_gps\"]] = dem[[\"longitude_gps\", \"latitude_gps\"]].astype(float)"
      ],
      "metadata": {
        "id": "Grc2eoBNqjry"
      },
      "execution_count": null,
      "outputs": []
    },
    {
      "cell_type": "markdown",
      "source": [
        "#### Creación nuevas variables"
      ],
      "metadata": {
        "id": "8Ma7jmI8rY6E"
      }
    },
    {
      "cell_type": "markdown",
      "source": [
        "A partir de las variables de este dataset, decidimos crear las siguientes variables:\n",
        "\n",
        "\n",
        "*   \"age\" - edad del cliente\n",
        "*   \"country\" - país desde el cual se realiza la operación\n",
        "*   \"city\" - ciudad desde la cual se realiza la operación "
      ],
      "metadata": {
        "id": "JGES8fDpQToU"
      }
    },
    {
      "cell_type": "code",
      "source": [
        "from datetime import datetime\n",
        "from datetime import date"
      ],
      "metadata": {
        "id": "yZOuXHkTII_S"
      },
      "execution_count": null,
      "outputs": []
    },
    {
      "cell_type": "code",
      "source": [
        "dem[\"age\"] = dem[\"birthdate\"].apply(lambda x : (pd.datetime.now().year - x.year))\n",
        "dem[\"age\"] = dem[\"age\"] - 4\n",
        "\n",
        "dem.age.describe()"
      ],
      "metadata": {
        "colab": {
          "base_uri": "https://localhost:8080/"
        },
        "id": "Zf6y77X3OCGr",
        "outputId": "5206d0da-4a38-4796-9465-87291ea08c7d"
      },
      "execution_count": null,
      "outputs": [
        {
          "output_type": "stream",
          "name": "stderr",
          "text": [
            "/usr/local/lib/python3.7/dist-packages/ipykernel_launcher.py:1: FutureWarning: The pandas.datetime class is deprecated and will be removed from pandas in a future version. Import from datetime module instead.\n",
            "  \"\"\"Entry point for launching an IPython kernel.\n"
          ]
        },
        {
          "output_type": "execute_result",
          "data": {
            "text/plain": [
              "count    4346.000000\n",
              "mean       33.946618\n",
              "std         6.135591\n",
              "min        22.000000\n",
              "25%        30.000000\n",
              "50%        33.000000\n",
              "75%        38.000000\n",
              "max        57.000000\n",
              "Name: age, dtype: float64"
            ]
          },
          "metadata": {},
          "execution_count": 84
        }
      ]
    },
    {
      "cell_type": "code",
      "source": [
        "# FUNCION PAIS + CIUDAD (no la pongo porque tarda 25 min en ejecutarse)"
      ],
      "metadata": {
        "id": "Bmp8FoZvr0fp"
      },
      "execution_count": null,
      "outputs": []
    },
    {
      "cell_type": "markdown",
      "source": [
        "#### Missing values\n"
      ],
      "metadata": {
        "id": "kXSdqq1vsOQS"
      }
    },
    {
      "cell_type": "markdown",
      "source": [
        "Observamos que las variables \"bank_branch_clients\"; \"level_of_education_clients\" ; \"employment_status_clients\" ; \"city\", contienen missing values. \n",
        "\n",
        "Borraremos las columnas innecesarias despúes de juntar ambos datasets"
      ],
      "metadata": {
        "id": "GaImmxgJsTTg"
      }
    },
    {
      "cell_type": "code",
      "source": [
        "dem.isna().sum()"
      ],
      "metadata": {
        "colab": {
          "base_uri": "https://localhost:8080/"
        },
        "id": "WhoIJdBZr6cO",
        "outputId": "0f0c4b03-7aa9-4c3c-fb51-5d019af0d99d"
      },
      "execution_count": null,
      "outputs": [
        {
          "output_type": "execute_result",
          "data": {
            "text/plain": [
              "Unnamed: 0                       0\n",
              "customerid                       0\n",
              "birthdate                        0\n",
              "bank_account_type                0\n",
              "longitude_gps                    0\n",
              "latitude_gps                     0\n",
              "bank_name_clients                0\n",
              "bank_branch_clients           4295\n",
              "employment_status_clients      648\n",
              "level_of_education_clients    3759\n",
              "Country                          0\n",
              "city                          3070\n",
              "age                              0\n",
              "dtype: int64"
            ]
          },
          "metadata": {},
          "execution_count": 86
        }
      ]
    },
    {
      "cell_type": "markdown",
      "source": [
        "### Join datasets"
      ],
      "metadata": {
        "id": "-ccCGdfNuJy5"
      }
    },
    {
      "cell_type": "code",
      "source": [
        "# LEFT JOIN\n",
        "prev_dem = pd.merge(prev, dem, left_on='customerid', right_on='customerid')"
      ],
      "metadata": {
        "id": "T0XblO4ftiEC"
      },
      "execution_count": null,
      "outputs": []
    },
    {
      "cell_type": "code",
      "source": [
        "prev_dem.isna().sum()"
      ],
      "metadata": {
        "colab": {
          "base_uri": "https://localhost:8080/"
        },
        "id": "S-iis_jCtzEQ",
        "outputId": "b2b95eb5-c5e6-4111-8abe-2a0fae5c3c78"
      },
      "execution_count": null,
      "outputs": [
        {
          "output_type": "execute_result",
          "data": {
            "text/plain": [
              "Unnamed: 0_x                      0\n",
              "customerid                        0\n",
              "systemloanid                      0\n",
              "loannumber                        0\n",
              "approveddate                      0\n",
              "creationdate                      0\n",
              "loanamount                        0\n",
              "totaldue                          0\n",
              "termdays                          0\n",
              "closeddate                        0\n",
              "referredby                        0\n",
              "firstduedate                      0\n",
              "firstrepaiddate                   0\n",
              "diff_approv_closed_date           0\n",
              "Good_bad_flag                     0\n",
              "num_prest                         0\n",
              "tipo_int                          0\n",
              "Unnamed: 0_y                      0\n",
              "birthdate                         0\n",
              "bank_account_type                 0\n",
              "longitude_gps                     0\n",
              "latitude_gps                      0\n",
              "bank_name_clients                 0\n",
              "bank_branch_clients           13589\n",
              "employment_status_clients      1363\n",
              "level_of_education_clients    10229\n",
              "Country                           0\n",
              "city                           9863\n",
              "age                               0\n",
              "dtype: int64"
            ]
          },
          "metadata": {},
          "execution_count": 88
        }
      ]
    },
    {
      "cell_type": "markdown",
      "source": [
        "### Eliminar variables"
      ],
      "metadata": {
        "id": "WlTYMwRlysYg"
      }
    },
    {
      "cell_type": "markdown",
      "source": [
        "Eliminamos las variables:\n",
        "\n",
        "*   \"Customer_id\"\n",
        "*   \"Systemloanid\"\n",
        "\n",
        "*   Fechas - no incluibles en el modelo, pero se han empleado para crear otras variables contínuas con info relevante\n",
        "*   \"approveddate\"\n",
        "*   \"creationdate\"\n",
        "*   \"closeddate\"\n",
        "*   \"firstduedate\"\n",
        "*   \"firstrepaiddate\"\n",
        "\n",
        "*   \"Longitude_gps\" - sustituida por variable \"country\"\n",
        "*   \"Latitude_gps\" - sustituida por variable \"country\"\n",
        "*   \"city\" - por número de missing values\n",
        "*   \"level_of_education_clients\" - por número de missing values\n",
        "*   \"bank branch clients\" - por número de missing values\n",
        "*   \"employment_status client\" - por número de missing values y porque la mayoría de valores es \"Permanent\"\n",
        "\n",
        "\n",
        "\n",
        "\n",
        "\n"
      ],
      "metadata": {
        "id": "4VjPtlufwsay"
      }
    },
    {
      "cell_type": "code",
      "source": [
        "#variables originarias de previous_loan:\n",
        "prev_dem.drop([\"customerid\", \"systemloanid\", \"approveddate\", \"creationdate\",\n",
        "               \"closeddate\", \"firstduedate\", \"firstrepaiddate\", \"loannumber\", \"Unnamed: 0_x\"], axis=1, inplace=True)\n",
        "#variables originarias de demograficos:\n",
        "prev_dem.drop([\"birthdate\", \"longitude_gps\", \"latitude_gps\", \"bank_branch_clients\", \"city\", \"Unnamed: 0_y\",\n",
        "               \"level_of_education_clients\", \"employment_status_clients\"], axis=1, inplace=True)"
      ],
      "metadata": {
        "id": "p8V6tSBkudf5"
      },
      "execution_count": null,
      "outputs": []
    },
    {
      "cell_type": "code",
      "source": [
        "prev_dem"
      ],
      "metadata": {
        "colab": {
          "base_uri": "https://localhost:8080/",
          "height": 424
        },
        "id": "mGSQhFvlydx7",
        "outputId": "582f47f5-e282-4f8e-9aac-bccd415d7e13"
      },
      "execution_count": null,
      "outputs": [
        {
          "output_type": "execute_result",
          "data": {
            "text/plain": [
              "       loanamount  totaldue  termdays  referredby  diff_approv_closed_date  \\\n",
              "0         10000.0   13000.0        30           0                       16   \n",
              "1         10000.0   13000.0        30           0                       29   \n",
              "2         20000.0   23800.0        30           0                       52   \n",
              "3         20000.0   24500.0        30           0                       24   \n",
              "4         20000.0   24500.0        30           0                       26   \n",
              "...           ...       ...       ...         ...                      ...   \n",
              "13688     10000.0   11500.0        15           0                        2   \n",
              "13689     10000.0   13000.0        30           1                       27   \n",
              "13690     10000.0   11500.0        15           0                        9   \n",
              "13691     10000.0   11500.0        15           0                        6   \n",
              "13692     10000.0   11500.0        15           0                       26   \n",
              "\n",
              "      Good_bad_flag  num_prest  tipo_int bank_account_type bank_name_clients  \\\n",
              "0              Good         11     0.300             Other      Diamond Bank   \n",
              "1              Good         11     0.300             Other      Diamond Bank   \n",
              "2               Bad         11     0.190             Other      Diamond Bank   \n",
              "3              Good         11     0.225             Other      Diamond Bank   \n",
              "4              Good         11     0.225             Other      Diamond Bank   \n",
              "...             ...        ...       ...               ...               ...   \n",
              "13688          Good          1     0.150           Savings               UBA   \n",
              "13689          Good          1     0.300           Savings              FCMB   \n",
              "13690          Good          1     0.150           Savings       Zenith Bank   \n",
              "13691          Good          1     0.150           Savings       Access Bank   \n",
              "13692           Bad          1     0.150           Savings           EcoBank   \n",
              "\n",
              "       Country  age  \n",
              "0      Nigeria   46  \n",
              "1      Nigeria   46  \n",
              "2      Nigeria   46  \n",
              "3      Nigeria   46  \n",
              "4      Nigeria   46  \n",
              "...        ...  ...  \n",
              "13688  Nigeria   32  \n",
              "13689  Nigeria   39  \n",
              "13690  Nigeria   29  \n",
              "13691  Nigeria   38  \n",
              "13692  Nigeria   29  \n",
              "\n",
              "[13693 rows x 12 columns]"
            ],
            "text/html": [
              "\n",
              "  <div id=\"df-8148e9d4-57d1-4af8-be43-cb4e2f62d817\">\n",
              "    <div class=\"colab-df-container\">\n",
              "      <div>\n",
              "<style scoped>\n",
              "    .dataframe tbody tr th:only-of-type {\n",
              "        vertical-align: middle;\n",
              "    }\n",
              "\n",
              "    .dataframe tbody tr th {\n",
              "        vertical-align: top;\n",
              "    }\n",
              "\n",
              "    .dataframe thead th {\n",
              "        text-align: right;\n",
              "    }\n",
              "</style>\n",
              "<table border=\"1\" class=\"dataframe\">\n",
              "  <thead>\n",
              "    <tr style=\"text-align: right;\">\n",
              "      <th></th>\n",
              "      <th>loanamount</th>\n",
              "      <th>totaldue</th>\n",
              "      <th>termdays</th>\n",
              "      <th>referredby</th>\n",
              "      <th>diff_approv_closed_date</th>\n",
              "      <th>Good_bad_flag</th>\n",
              "      <th>num_prest</th>\n",
              "      <th>tipo_int</th>\n",
              "      <th>bank_account_type</th>\n",
              "      <th>bank_name_clients</th>\n",
              "      <th>Country</th>\n",
              "      <th>age</th>\n",
              "    </tr>\n",
              "  </thead>\n",
              "  <tbody>\n",
              "    <tr>\n",
              "      <th>0</th>\n",
              "      <td>10000.0</td>\n",
              "      <td>13000.0</td>\n",
              "      <td>30</td>\n",
              "      <td>0</td>\n",
              "      <td>16</td>\n",
              "      <td>Good</td>\n",
              "      <td>11</td>\n",
              "      <td>0.300</td>\n",
              "      <td>Other</td>\n",
              "      <td>Diamond Bank</td>\n",
              "      <td>Nigeria</td>\n",
              "      <td>46</td>\n",
              "    </tr>\n",
              "    <tr>\n",
              "      <th>1</th>\n",
              "      <td>10000.0</td>\n",
              "      <td>13000.0</td>\n",
              "      <td>30</td>\n",
              "      <td>0</td>\n",
              "      <td>29</td>\n",
              "      <td>Good</td>\n",
              "      <td>11</td>\n",
              "      <td>0.300</td>\n",
              "      <td>Other</td>\n",
              "      <td>Diamond Bank</td>\n",
              "      <td>Nigeria</td>\n",
              "      <td>46</td>\n",
              "    </tr>\n",
              "    <tr>\n",
              "      <th>2</th>\n",
              "      <td>20000.0</td>\n",
              "      <td>23800.0</td>\n",
              "      <td>30</td>\n",
              "      <td>0</td>\n",
              "      <td>52</td>\n",
              "      <td>Bad</td>\n",
              "      <td>11</td>\n",
              "      <td>0.190</td>\n",
              "      <td>Other</td>\n",
              "      <td>Diamond Bank</td>\n",
              "      <td>Nigeria</td>\n",
              "      <td>46</td>\n",
              "    </tr>\n",
              "    <tr>\n",
              "      <th>3</th>\n",
              "      <td>20000.0</td>\n",
              "      <td>24500.0</td>\n",
              "      <td>30</td>\n",
              "      <td>0</td>\n",
              "      <td>24</td>\n",
              "      <td>Good</td>\n",
              "      <td>11</td>\n",
              "      <td>0.225</td>\n",
              "      <td>Other</td>\n",
              "      <td>Diamond Bank</td>\n",
              "      <td>Nigeria</td>\n",
              "      <td>46</td>\n",
              "    </tr>\n",
              "    <tr>\n",
              "      <th>4</th>\n",
              "      <td>20000.0</td>\n",
              "      <td>24500.0</td>\n",
              "      <td>30</td>\n",
              "      <td>0</td>\n",
              "      <td>26</td>\n",
              "      <td>Good</td>\n",
              "      <td>11</td>\n",
              "      <td>0.225</td>\n",
              "      <td>Other</td>\n",
              "      <td>Diamond Bank</td>\n",
              "      <td>Nigeria</td>\n",
              "      <td>46</td>\n",
              "    </tr>\n",
              "    <tr>\n",
              "      <th>...</th>\n",
              "      <td>...</td>\n",
              "      <td>...</td>\n",
              "      <td>...</td>\n",
              "      <td>...</td>\n",
              "      <td>...</td>\n",
              "      <td>...</td>\n",
              "      <td>...</td>\n",
              "      <td>...</td>\n",
              "      <td>...</td>\n",
              "      <td>...</td>\n",
              "      <td>...</td>\n",
              "      <td>...</td>\n",
              "    </tr>\n",
              "    <tr>\n",
              "      <th>13688</th>\n",
              "      <td>10000.0</td>\n",
              "      <td>11500.0</td>\n",
              "      <td>15</td>\n",
              "      <td>0</td>\n",
              "      <td>2</td>\n",
              "      <td>Good</td>\n",
              "      <td>1</td>\n",
              "      <td>0.150</td>\n",
              "      <td>Savings</td>\n",
              "      <td>UBA</td>\n",
              "      <td>Nigeria</td>\n",
              "      <td>32</td>\n",
              "    </tr>\n",
              "    <tr>\n",
              "      <th>13689</th>\n",
              "      <td>10000.0</td>\n",
              "      <td>13000.0</td>\n",
              "      <td>30</td>\n",
              "      <td>1</td>\n",
              "      <td>27</td>\n",
              "      <td>Good</td>\n",
              "      <td>1</td>\n",
              "      <td>0.300</td>\n",
              "      <td>Savings</td>\n",
              "      <td>FCMB</td>\n",
              "      <td>Nigeria</td>\n",
              "      <td>39</td>\n",
              "    </tr>\n",
              "    <tr>\n",
              "      <th>13690</th>\n",
              "      <td>10000.0</td>\n",
              "      <td>11500.0</td>\n",
              "      <td>15</td>\n",
              "      <td>0</td>\n",
              "      <td>9</td>\n",
              "      <td>Good</td>\n",
              "      <td>1</td>\n",
              "      <td>0.150</td>\n",
              "      <td>Savings</td>\n",
              "      <td>Zenith Bank</td>\n",
              "      <td>Nigeria</td>\n",
              "      <td>29</td>\n",
              "    </tr>\n",
              "    <tr>\n",
              "      <th>13691</th>\n",
              "      <td>10000.0</td>\n",
              "      <td>11500.0</td>\n",
              "      <td>15</td>\n",
              "      <td>0</td>\n",
              "      <td>6</td>\n",
              "      <td>Good</td>\n",
              "      <td>1</td>\n",
              "      <td>0.150</td>\n",
              "      <td>Savings</td>\n",
              "      <td>Access Bank</td>\n",
              "      <td>Nigeria</td>\n",
              "      <td>38</td>\n",
              "    </tr>\n",
              "    <tr>\n",
              "      <th>13692</th>\n",
              "      <td>10000.0</td>\n",
              "      <td>11500.0</td>\n",
              "      <td>15</td>\n",
              "      <td>0</td>\n",
              "      <td>26</td>\n",
              "      <td>Bad</td>\n",
              "      <td>1</td>\n",
              "      <td>0.150</td>\n",
              "      <td>Savings</td>\n",
              "      <td>EcoBank</td>\n",
              "      <td>Nigeria</td>\n",
              "      <td>29</td>\n",
              "    </tr>\n",
              "  </tbody>\n",
              "</table>\n",
              "<p>13693 rows × 12 columns</p>\n",
              "</div>\n",
              "      <button class=\"colab-df-convert\" onclick=\"convertToInteractive('df-8148e9d4-57d1-4af8-be43-cb4e2f62d817')\"\n",
              "              title=\"Convert this dataframe to an interactive table.\"\n",
              "              style=\"display:none;\">\n",
              "        \n",
              "  <svg xmlns=\"http://www.w3.org/2000/svg\" height=\"24px\"viewBox=\"0 0 24 24\"\n",
              "       width=\"24px\">\n",
              "    <path d=\"M0 0h24v24H0V0z\" fill=\"none\"/>\n",
              "    <path d=\"M18.56 5.44l.94 2.06.94-2.06 2.06-.94-2.06-.94-.94-2.06-.94 2.06-2.06.94zm-11 1L8.5 8.5l.94-2.06 2.06-.94-2.06-.94L8.5 2.5l-.94 2.06-2.06.94zm10 10l.94 2.06.94-2.06 2.06-.94-2.06-.94-.94-2.06-.94 2.06-2.06.94z\"/><path d=\"M17.41 7.96l-1.37-1.37c-.4-.4-.92-.59-1.43-.59-.52 0-1.04.2-1.43.59L10.3 9.45l-7.72 7.72c-.78.78-.78 2.05 0 2.83L4 21.41c.39.39.9.59 1.41.59.51 0 1.02-.2 1.41-.59l7.78-7.78 2.81-2.81c.8-.78.8-2.07 0-2.86zM5.41 20L4 18.59l7.72-7.72 1.47 1.35L5.41 20z\"/>\n",
              "  </svg>\n",
              "      </button>\n",
              "      \n",
              "  <style>\n",
              "    .colab-df-container {\n",
              "      display:flex;\n",
              "      flex-wrap:wrap;\n",
              "      gap: 12px;\n",
              "    }\n",
              "\n",
              "    .colab-df-convert {\n",
              "      background-color: #E8F0FE;\n",
              "      border: none;\n",
              "      border-radius: 50%;\n",
              "      cursor: pointer;\n",
              "      display: none;\n",
              "      fill: #1967D2;\n",
              "      height: 32px;\n",
              "      padding: 0 0 0 0;\n",
              "      width: 32px;\n",
              "    }\n",
              "\n",
              "    .colab-df-convert:hover {\n",
              "      background-color: #E2EBFA;\n",
              "      box-shadow: 0px 1px 2px rgba(60, 64, 67, 0.3), 0px 1px 3px 1px rgba(60, 64, 67, 0.15);\n",
              "      fill: #174EA6;\n",
              "    }\n",
              "\n",
              "    [theme=dark] .colab-df-convert {\n",
              "      background-color: #3B4455;\n",
              "      fill: #D2E3FC;\n",
              "    }\n",
              "\n",
              "    [theme=dark] .colab-df-convert:hover {\n",
              "      background-color: #434B5C;\n",
              "      box-shadow: 0px 1px 3px 1px rgba(0, 0, 0, 0.15);\n",
              "      filter: drop-shadow(0px 1px 2px rgba(0, 0, 0, 0.3));\n",
              "      fill: #FFFFFF;\n",
              "    }\n",
              "  </style>\n",
              "\n",
              "      <script>\n",
              "        const buttonEl =\n",
              "          document.querySelector('#df-8148e9d4-57d1-4af8-be43-cb4e2f62d817 button.colab-df-convert');\n",
              "        buttonEl.style.display =\n",
              "          google.colab.kernel.accessAllowed ? 'block' : 'none';\n",
              "\n",
              "        async function convertToInteractive(key) {\n",
              "          const element = document.querySelector('#df-8148e9d4-57d1-4af8-be43-cb4e2f62d817');\n",
              "          const dataTable =\n",
              "            await google.colab.kernel.invokeFunction('convertToInteractive',\n",
              "                                                     [key], {});\n",
              "          if (!dataTable) return;\n",
              "\n",
              "          const docLinkHtml = 'Like what you see? Visit the ' +\n",
              "            '<a target=\"_blank\" href=https://colab.research.google.com/notebooks/data_table.ipynb>data table notebook</a>'\n",
              "            + ' to learn more about interactive tables.';\n",
              "          element.innerHTML = '';\n",
              "          dataTable['output_type'] = 'display_data';\n",
              "          await google.colab.output.renderOutput(dataTable, element);\n",
              "          const docLink = document.createElement('div');\n",
              "          docLink.innerHTML = docLinkHtml;\n",
              "          element.appendChild(docLink);\n",
              "        }\n",
              "      </script>\n",
              "    </div>\n",
              "  </div>\n",
              "  "
            ]
          },
          "metadata": {},
          "execution_count": 90
        }
      ]
    },
    {
      "cell_type": "markdown",
      "source": [
        "### Outliers"
      ],
      "metadata": {
        "id": "gnA4cbKZ0mNs"
      }
    },
    {
      "cell_type": "code",
      "source": [
        "outl = prev_dem.describe(percentiles=[.25, .5, .75, .90, .95, .99])\n",
        "outl"
      ],
      "metadata": {
        "colab": {
          "base_uri": "https://localhost:8080/",
          "height": 394
        },
        "id": "SnDEFXWo0rxK",
        "outputId": "169c1bf9-68ae-4378-f310-e9c8cbe5a79f"
      },
      "execution_count": null,
      "outputs": [
        {
          "output_type": "execute_result",
          "data": {
            "text/plain": [
              "         loanamount      totaldue      termdays    referredby  \\\n",
              "count  13693.000000  13693.000000  13693.000000  13693.000000   \n",
              "mean   16566.347769  19646.612269     26.742131      0.058570   \n",
              "std     9375.687619  10512.238823     10.997624      0.234827   \n",
              "min     3000.000000   3900.000000     15.000000      0.000000   \n",
              "25%    10000.000000  11500.000000     15.000000      0.000000   \n",
              "50%    10000.000000  13000.000000     30.000000      0.000000   \n",
              "75%    20000.000000  24500.000000     30.000000      0.000000   \n",
              "90%    30000.000000  34500.000000     30.000000      0.000000   \n",
              "95%    40000.000000  44000.000000     60.000000      1.000000   \n",
              "99%    40000.000000  48000.000000     60.000000      1.000000   \n",
              "max    60000.000000  68100.000000     90.000000      1.000000   \n",
              "\n",
              "       diff_approv_closed_date     num_prest      tipo_int           age  \n",
              "count             13693.000000  13693.000000  13693.000000  13693.000000  \n",
              "mean                 23.430512      7.396699      0.203518     33.860951  \n",
              "std                  13.269178      4.318254      0.074303      6.121597  \n",
              "min                   0.000000      1.000000      0.000000     22.000000  \n",
              "25%                  14.000000      4.000000      0.150000     30.000000  \n",
              "50%                  25.000000      7.000000      0.190000     33.000000  \n",
              "75%                  29.000000     10.000000      0.300000     38.000000  \n",
              "90%                  34.000000     13.000000      0.300000     42.000000  \n",
              "95%                  44.000000     14.000000      0.300000     45.000000  \n",
              "99%                  62.000000     19.000000      0.300000     52.000000  \n",
              "max                 380.000000     26.000000      0.300000     57.000000  "
            ],
            "text/html": [
              "\n",
              "  <div id=\"df-de88d9b8-0fbd-48ce-bb04-149577d11b57\">\n",
              "    <div class=\"colab-df-container\">\n",
              "      <div>\n",
              "<style scoped>\n",
              "    .dataframe tbody tr th:only-of-type {\n",
              "        vertical-align: middle;\n",
              "    }\n",
              "\n",
              "    .dataframe tbody tr th {\n",
              "        vertical-align: top;\n",
              "    }\n",
              "\n",
              "    .dataframe thead th {\n",
              "        text-align: right;\n",
              "    }\n",
              "</style>\n",
              "<table border=\"1\" class=\"dataframe\">\n",
              "  <thead>\n",
              "    <tr style=\"text-align: right;\">\n",
              "      <th></th>\n",
              "      <th>loanamount</th>\n",
              "      <th>totaldue</th>\n",
              "      <th>termdays</th>\n",
              "      <th>referredby</th>\n",
              "      <th>diff_approv_closed_date</th>\n",
              "      <th>num_prest</th>\n",
              "      <th>tipo_int</th>\n",
              "      <th>age</th>\n",
              "    </tr>\n",
              "  </thead>\n",
              "  <tbody>\n",
              "    <tr>\n",
              "      <th>count</th>\n",
              "      <td>13693.000000</td>\n",
              "      <td>13693.000000</td>\n",
              "      <td>13693.000000</td>\n",
              "      <td>13693.000000</td>\n",
              "      <td>13693.000000</td>\n",
              "      <td>13693.000000</td>\n",
              "      <td>13693.000000</td>\n",
              "      <td>13693.000000</td>\n",
              "    </tr>\n",
              "    <tr>\n",
              "      <th>mean</th>\n",
              "      <td>16566.347769</td>\n",
              "      <td>19646.612269</td>\n",
              "      <td>26.742131</td>\n",
              "      <td>0.058570</td>\n",
              "      <td>23.430512</td>\n",
              "      <td>7.396699</td>\n",
              "      <td>0.203518</td>\n",
              "      <td>33.860951</td>\n",
              "    </tr>\n",
              "    <tr>\n",
              "      <th>std</th>\n",
              "      <td>9375.687619</td>\n",
              "      <td>10512.238823</td>\n",
              "      <td>10.997624</td>\n",
              "      <td>0.234827</td>\n",
              "      <td>13.269178</td>\n",
              "      <td>4.318254</td>\n",
              "      <td>0.074303</td>\n",
              "      <td>6.121597</td>\n",
              "    </tr>\n",
              "    <tr>\n",
              "      <th>min</th>\n",
              "      <td>3000.000000</td>\n",
              "      <td>3900.000000</td>\n",
              "      <td>15.000000</td>\n",
              "      <td>0.000000</td>\n",
              "      <td>0.000000</td>\n",
              "      <td>1.000000</td>\n",
              "      <td>0.000000</td>\n",
              "      <td>22.000000</td>\n",
              "    </tr>\n",
              "    <tr>\n",
              "      <th>25%</th>\n",
              "      <td>10000.000000</td>\n",
              "      <td>11500.000000</td>\n",
              "      <td>15.000000</td>\n",
              "      <td>0.000000</td>\n",
              "      <td>14.000000</td>\n",
              "      <td>4.000000</td>\n",
              "      <td>0.150000</td>\n",
              "      <td>30.000000</td>\n",
              "    </tr>\n",
              "    <tr>\n",
              "      <th>50%</th>\n",
              "      <td>10000.000000</td>\n",
              "      <td>13000.000000</td>\n",
              "      <td>30.000000</td>\n",
              "      <td>0.000000</td>\n",
              "      <td>25.000000</td>\n",
              "      <td>7.000000</td>\n",
              "      <td>0.190000</td>\n",
              "      <td>33.000000</td>\n",
              "    </tr>\n",
              "    <tr>\n",
              "      <th>75%</th>\n",
              "      <td>20000.000000</td>\n",
              "      <td>24500.000000</td>\n",
              "      <td>30.000000</td>\n",
              "      <td>0.000000</td>\n",
              "      <td>29.000000</td>\n",
              "      <td>10.000000</td>\n",
              "      <td>0.300000</td>\n",
              "      <td>38.000000</td>\n",
              "    </tr>\n",
              "    <tr>\n",
              "      <th>90%</th>\n",
              "      <td>30000.000000</td>\n",
              "      <td>34500.000000</td>\n",
              "      <td>30.000000</td>\n",
              "      <td>0.000000</td>\n",
              "      <td>34.000000</td>\n",
              "      <td>13.000000</td>\n",
              "      <td>0.300000</td>\n",
              "      <td>42.000000</td>\n",
              "    </tr>\n",
              "    <tr>\n",
              "      <th>95%</th>\n",
              "      <td>40000.000000</td>\n",
              "      <td>44000.000000</td>\n",
              "      <td>60.000000</td>\n",
              "      <td>1.000000</td>\n",
              "      <td>44.000000</td>\n",
              "      <td>14.000000</td>\n",
              "      <td>0.300000</td>\n",
              "      <td>45.000000</td>\n",
              "    </tr>\n",
              "    <tr>\n",
              "      <th>99%</th>\n",
              "      <td>40000.000000</td>\n",
              "      <td>48000.000000</td>\n",
              "      <td>60.000000</td>\n",
              "      <td>1.000000</td>\n",
              "      <td>62.000000</td>\n",
              "      <td>19.000000</td>\n",
              "      <td>0.300000</td>\n",
              "      <td>52.000000</td>\n",
              "    </tr>\n",
              "    <tr>\n",
              "      <th>max</th>\n",
              "      <td>60000.000000</td>\n",
              "      <td>68100.000000</td>\n",
              "      <td>90.000000</td>\n",
              "      <td>1.000000</td>\n",
              "      <td>380.000000</td>\n",
              "      <td>26.000000</td>\n",
              "      <td>0.300000</td>\n",
              "      <td>57.000000</td>\n",
              "    </tr>\n",
              "  </tbody>\n",
              "</table>\n",
              "</div>\n",
              "      <button class=\"colab-df-convert\" onclick=\"convertToInteractive('df-de88d9b8-0fbd-48ce-bb04-149577d11b57')\"\n",
              "              title=\"Convert this dataframe to an interactive table.\"\n",
              "              style=\"display:none;\">\n",
              "        \n",
              "  <svg xmlns=\"http://www.w3.org/2000/svg\" height=\"24px\"viewBox=\"0 0 24 24\"\n",
              "       width=\"24px\">\n",
              "    <path d=\"M0 0h24v24H0V0z\" fill=\"none\"/>\n",
              "    <path d=\"M18.56 5.44l.94 2.06.94-2.06 2.06-.94-2.06-.94-.94-2.06-.94 2.06-2.06.94zm-11 1L8.5 8.5l.94-2.06 2.06-.94-2.06-.94L8.5 2.5l-.94 2.06-2.06.94zm10 10l.94 2.06.94-2.06 2.06-.94-2.06-.94-.94-2.06-.94 2.06-2.06.94z\"/><path d=\"M17.41 7.96l-1.37-1.37c-.4-.4-.92-.59-1.43-.59-.52 0-1.04.2-1.43.59L10.3 9.45l-7.72 7.72c-.78.78-.78 2.05 0 2.83L4 21.41c.39.39.9.59 1.41.59.51 0 1.02-.2 1.41-.59l7.78-7.78 2.81-2.81c.8-.78.8-2.07 0-2.86zM5.41 20L4 18.59l7.72-7.72 1.47 1.35L5.41 20z\"/>\n",
              "  </svg>\n",
              "      </button>\n",
              "      \n",
              "  <style>\n",
              "    .colab-df-container {\n",
              "      display:flex;\n",
              "      flex-wrap:wrap;\n",
              "      gap: 12px;\n",
              "    }\n",
              "\n",
              "    .colab-df-convert {\n",
              "      background-color: #E8F0FE;\n",
              "      border: none;\n",
              "      border-radius: 50%;\n",
              "      cursor: pointer;\n",
              "      display: none;\n",
              "      fill: #1967D2;\n",
              "      height: 32px;\n",
              "      padding: 0 0 0 0;\n",
              "      width: 32px;\n",
              "    }\n",
              "\n",
              "    .colab-df-convert:hover {\n",
              "      background-color: #E2EBFA;\n",
              "      box-shadow: 0px 1px 2px rgba(60, 64, 67, 0.3), 0px 1px 3px 1px rgba(60, 64, 67, 0.15);\n",
              "      fill: #174EA6;\n",
              "    }\n",
              "\n",
              "    [theme=dark] .colab-df-convert {\n",
              "      background-color: #3B4455;\n",
              "      fill: #D2E3FC;\n",
              "    }\n",
              "\n",
              "    [theme=dark] .colab-df-convert:hover {\n",
              "      background-color: #434B5C;\n",
              "      box-shadow: 0px 1px 3px 1px rgba(0, 0, 0, 0.15);\n",
              "      filter: drop-shadow(0px 1px 2px rgba(0, 0, 0, 0.3));\n",
              "      fill: #FFFFFF;\n",
              "    }\n",
              "  </style>\n",
              "\n",
              "      <script>\n",
              "        const buttonEl =\n",
              "          document.querySelector('#df-de88d9b8-0fbd-48ce-bb04-149577d11b57 button.colab-df-convert');\n",
              "        buttonEl.style.display =\n",
              "          google.colab.kernel.accessAllowed ? 'block' : 'none';\n",
              "\n",
              "        async function convertToInteractive(key) {\n",
              "          const element = document.querySelector('#df-de88d9b8-0fbd-48ce-bb04-149577d11b57');\n",
              "          const dataTable =\n",
              "            await google.colab.kernel.invokeFunction('convertToInteractive',\n",
              "                                                     [key], {});\n",
              "          if (!dataTable) return;\n",
              "\n",
              "          const docLinkHtml = 'Like what you see? Visit the ' +\n",
              "            '<a target=\"_blank\" href=https://colab.research.google.com/notebooks/data_table.ipynb>data table notebook</a>'\n",
              "            + ' to learn more about interactive tables.';\n",
              "          element.innerHTML = '';\n",
              "          dataTable['output_type'] = 'display_data';\n",
              "          await google.colab.output.renderOutput(dataTable, element);\n",
              "          const docLink = document.createElement('div');\n",
              "          docLink.innerHTML = docLinkHtml;\n",
              "          element.appendChild(docLink);\n",
              "        }\n",
              "      </script>\n",
              "    </div>\n",
              "  </div>\n",
              "  "
            ]
          },
          "metadata": {},
          "execution_count": 91
        }
      ]
    },
    {
      "cell_type": "markdown",
      "source": [
        "Comprobamos que el 1% de los valores máximos de las variables númericas representan outliers. Decidimos eliminarlos para que nuestro futuro modelo no tienda al overfitting."
      ],
      "metadata": {
        "id": "uPjK4U40EQqR"
      }
    },
    {
      "cell_type": "code",
      "source": [
        "#MODIFY\n",
        "outlier_variable='loanamount'\n",
        "threshold=40000\n",
        "\n",
        "#Remove outlier rows\n",
        "prev_dem = prev_dem.drop(prev_dem[prev_dem[outlier_variable] > threshold].index)\n",
        "\n",
        "#MODIFY\n",
        "outlier_variable='totaldue'\n",
        "threshold=48000\n",
        "\n",
        "#Remove outlier rows\n",
        "prev_dem = prev_dem.drop(prev_dem[prev_dem[outlier_variable] > threshold].index)\n",
        "\n",
        "#MODIFY\n",
        "outlier_variable='termdays'\n",
        "threshold=60\n",
        "\n",
        "#Remove outlier rows\n",
        "prev_dem = prev_dem.drop(prev_dem[prev_dem[outlier_variable] > threshold].index)\n",
        "\n",
        "#MODIFY\n",
        "outlier_variable='diff_approv_closed_date'\n",
        "threshold=61\n",
        "\n",
        "#Remove outlier rows\n",
        "prev_dem = prev_dem.drop(prev_dem[prev_dem[outlier_variable] > threshold].index)\n",
        "\n",
        "#MODIFY\n",
        "outlier_variable='num_prest'\n",
        "threshold=19\n",
        "\n",
        "#Remove outlier rows\n",
        "prev_dem = prev_dem.drop(prev_dem[prev_dem[outlier_variable] > threshold].index)"
      ],
      "metadata": {
        "id": "99k02HU809ik"
      },
      "execution_count": null,
      "outputs": []
    },
    {
      "cell_type": "code",
      "source": [
        "#missing values\n",
        "print(round(100*(prev_dem.isnull().sum()/len(prev_dem.index)), 2))"
      ],
      "metadata": {
        "colab": {
          "base_uri": "https://localhost:8080/"
        },
        "id": "A8IetPt61SXk",
        "outputId": "afdd240a-bb58-404c-f5ce-c1fd7c06040a"
      },
      "execution_count": null,
      "outputs": [
        {
          "output_type": "stream",
          "name": "stdout",
          "text": [
            "loanamount                 0.0\n",
            "totaldue                   0.0\n",
            "termdays                   0.0\n",
            "referredby                 0.0\n",
            "diff_approv_closed_date    0.0\n",
            "Good_bad_flag              0.0\n",
            "num_prest                  0.0\n",
            "tipo_int                   0.0\n",
            "bank_account_type          0.0\n",
            "bank_name_clients          0.0\n",
            "Country                    0.0\n",
            "age                        0.0\n",
            "dtype: float64\n"
          ]
        }
      ]
    },
    {
      "cell_type": "markdown",
      "source": [
        "### Matriz de correlación"
      ],
      "metadata": {
        "id": "CTgzZPXSGOy_"
      }
    },
    {
      "cell_type": "code",
      "source": [
        "# Let's see the correlation matrix \n",
        "plt.figure(figsize = (20,10))       \n",
        "sns.heatmap(prev_dem.corr(),annot = True)\n",
        "plt.show()"
      ],
      "metadata": {
        "colab": {
          "base_uri": "https://localhost:8080/",
          "height": 596
        },
        "id": "rLEJLmKc1eGQ",
        "outputId": "53548fd1-1ffe-4986-8ac4-ff423212fa3f"
      },
      "execution_count": null,
      "outputs": [
        {
          "output_type": "display_data",
          "data": {
            "text/plain": [
              "<Figure size 1440x720 with 2 Axes>"
            ],
            "image/png": "[encoded data removed]"
          },
          "metadata": {
            "needs_background": "light"
          }
        }
      ]
    },
    {
      "cell_type": "code",
      "source": [
        "#---- Hay correlacion 1 entre totaldue y loanamount. Eliminamos loanamount\n",
        "prev_dem.drop([\"loanamount\"], axis=1, inplace =True)"
      ],
      "metadata": {
        "id": "nqFSUm2-1lfr"
      },
      "execution_count": null,
      "outputs": []
    },
    {
      "cell_type": "code",
      "source": [
        "#Export CSV\n",
        "\"\"\"\n",
        "from google.colab import files\n",
        "\n",
        "prev_dem.to_csv('prev_dem.csv', encoding = 'utf-8-sig') \n",
        "files.download('prev_dem.csv')\n",
        "\"\"\""
      ],
      "metadata": {
        "colab": {
          "base_uri": "https://localhost:8080/",
          "height": 36
        },
        "id": "09rhF0JhO3UH",
        "outputId": "77839244-825d-4424-8f80-bb0a87e64700"
      },
      "execution_count": null,
      "outputs": [
        {
          "output_type": "execute_result",
          "data": {
            "text/plain": [
              "\"\\nfrom google.colab import files\\n\\nprev_dem.to_csv('prev_dem.csv', encoding = 'utf-8-sig') \\nfiles.download('prev_dem.csv')\\n\""
            ],
            "application/vnd.google.colaboratory.intrinsic+json": {
              "type": "string"
            }
          },
          "metadata": {},
          "execution_count": 2
        }
      ]
    },
    {
      "cell_type": "code",
      "source": [
        "prev_dem"
      ],
      "metadata": {
        "colab": {
          "base_uri": "https://localhost:8080/",
          "height": 173
        },
        "id": "DkjhMXCCRBIw",
        "outputId": "1d7b1448-a662-4011-cd55-9cf89f8ef79e"
      },
      "execution_count": null,
      "outputs": [
        {
          "output_type": "error",
          "ename": "NameError",
          "evalue": "ignored",
          "traceback": [
            "\u001b[0;31m---------------------------------------------------------------------------\u001b[0m",
            "\u001b[0;31mNameError\u001b[0m                                 Traceback (most recent call last)",
            "\u001b[0;32m<ipython-input-4-0a67cfe998b3>\u001b[0m in \u001b[0;36m<module>\u001b[0;34m()\u001b[0m\n\u001b[0;32m----> 1\u001b[0;31m \u001b[0mprev_dem\u001b[0m\u001b[0;34m\u001b[0m\u001b[0;34m\u001b[0m\u001b[0m\n\u001b[0m",
            "\u001b[0;31mNameError\u001b[0m: name 'prev_dem' is not defined"
          ]
        }
      ]
    },
    {
      "cell_type": "markdown",
      "source": [
        "## 02_Clustering"
      ],
      "metadata": {
        "id": "JyiEUXqk3B9S"
      }
    },
    {
      "cell_type": "code",
      "source": [
        ""
      ],
      "metadata": {
        "id": "worqH9hh3OxT"
      },
      "execution_count": null,
      "outputs": []
    },
    {
      "cell_type": "markdown",
      "source": [
        "## 03_Modelos"
      ],
      "metadata": {
        "id": "02pnuPSeBzk3"
      }
    }
  ]
}